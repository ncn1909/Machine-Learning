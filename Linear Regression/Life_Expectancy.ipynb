{
 "cells": [
  {
   "cell_type": "markdown",
   "metadata": {
    "id": "EbskizSFNZuS"
   },
   "source": [
    "# Dự đoán tuổi thọ\n",
    "\n",
    "Thời lượng ước tính: **120** phút\n",
    "\n",
    "## Tổng quan\n",
    "\n",
    "Các tiến bộ trong y học, sự gia tăng của các cơ sở chăm sóc sức khỏe và tiêu chuẩn chăm sóc được cải thiện đều góp phần làm tăng tuổi thọ trung bình trong vài thập kỷ qua. Mặc dù điều này có vẻ là thành tựu to lớn đối với nhân loại, nhưng nó cũng dẫn đến việc ngày càng nhiều người cao tuổi bị đưa vào các cộng đồng sống được chăm sóc và trợ giúp của người cao tuổi. Đạo đức, lợi ích và bất lợi của việc gửi cha mẹ vào trong những cơ sở như vậy vẫn còn đang gây tranh cãi; tuy nhiên, thực tế này đã làm tăng gánh nặng tài chính cho cả khu vực tư nhân và chính phủ.\n",
    "\n",
    "Trong Lab này, bạn sẽ sử dụng tập con là tập dữ liệu tuổi thọ, được cung cấp bởi trang Trung tâm Thống kê Y tế Quốc gia của Trung tâm Kiểm soát và Phòng ngừa Dịch bệnh. Trang lưu trữ nhiều tập dữ liệu mở về các chủ đề khác nhau, từ thương tích, nghèo đói, sức khỏe phụ nữ, giáo dục, bảo hiểm y tế và tất nhiên là các bệnh truyền nhiễm, .... Nhưng cái bạn sẽ sử dụng là tập dữ liệu \"Tuổi thọ trung bình theo giới tính, chủng tộc\", có số liệu thống kê từ những năm 1900 đến nay được thu thập ở Hoa Kỳ. Chúng tôi đã bao gồm một bản sao của tập dữ liệu dưới dạng **[life_expectancy.csv](https://drive.google.com/file/d/1efDU4iNsXdfDOwmTkLUkUsNxaI8v7--n/view?usp=sharing)**. Tập dữ liệu chỉ liệt kê tuổi thọ của người da trắng và da đen, bởi vì trong suốt phần lớn thời gian thu thập, đó là hai chủng tộc lớn đã chủ động ghi lại số liệu thống kê của họ ở Hoa Kỳ.\n",
    "\n",
    "## Mục tiêu\n",
    "\n",
    "*   Xây dựng mô hình Hồi Quy Tuyến Tính từ thư viện scikit-learn để ngoại suy mọi người sẽ sống được bao lâu trong tương lai. Khu vực tư nhân và các chính phủ phản ánh những tính toán này khi tính toán các khoản chi trả cho an sinh xã hội, thuế, cơ sở hạ tầng, ..\n",
    "\n",
    "*   Trực quan hóa mô hình sau khi xây dựng.\n",
    "\n"
   ]
  },
  {
   "cell_type": "code",
   "execution_count": 1,
   "metadata": {
    "id": "sLpcnJrbNZuT"
   },
   "outputs": [],
   "source": [
    "import pandas as pd\n",
    "import numpy as np\n",
    "import matplotlib\n",
    "import matplotlib.pyplot as plt\n",
    "\n",
    "matplotlib.style.use('ggplot') # Look Pretty"
   ]
  },
  {
   "cell_type": "markdown",
   "metadata": {
    "id": "QC-07iUxNZue"
   },
   "source": [
    "### Một hàm hữu dụng"
   ]
  },
  {
   "cell_type": "markdown",
   "metadata": {
    "id": "iIqIxTADNZug"
   },
   "source": [
    "Phương pháp tiện lợi này sẽ giải quyết các quan sát kiểm tra của bạn, so sánh chúng với đường hồi quy và hiển thị hệ số R2"
   ]
  },
  {
   "cell_type": "code",
   "execution_count": 2,
   "metadata": {
    "id": "x_o6tM4dNZuh"
   },
   "outputs": [],
   "source": [
    "def drawLine(model, X_test, y_test, title):\n",
    "    fig = plt.figure()\n",
    "    ax = fig.add_subplot(111)\n",
    "    ax.scatter(X_test, y_test, c='g', marker='o')\n",
    "    ax.plot(X_test, model.predict(X_test), color='orange', linewidth=1, alpha=0.7)\n",
    "\n",
    "    print(\"Est 2014 \" + title + \" Life Expectancy: \", model.predict([[2014]])[0])\n",
    "    print(\"Est 2030 \" + title + \" Life Expectancy: \", model.predict([[2030]])[0])\n",
    "    print(\"Est 2045 \" + title + \" Life Expectancy: \", model.predict([[2045]])[0])\n",
    "\n",
    "    score = model.score(X_test, y_test)\n",
    "    title += \" R2: \" + str(score)\n",
    "    ax.set_title(title)\n",
    "\n",
    "    plt.show()"
   ]
  },
  {
   "cell_type": "markdown",
   "metadata": {
    "id": "6FJs_0ufNZun"
   },
   "source": [
    "## 1. Chuẩn bị dữ liệu"
   ]
  },
  {
   "cell_type": "markdown",
   "metadata": {
    "id": "6_8izaLMNZup"
   },
   "source": [
    "Load dữ liệu ở đây vào biến `X`. Như thường lệ, hãy thực hiện .describe và in tập dữ liệu của bạn và so sánh với tập dữ liệu được tải trong tệp văn bản hoặc trong ứng dụng trang tính: "
   ]
  },
  {
   "cell_type": "code",
   "execution_count": 72,
   "metadata": {
    "id": "bmT8Od0BNZur"
   },
   "outputs": [
    {
     "data": {
      "text/html": [
       "<div>\n",
       "<style scoped>\n",
       "    .dataframe tbody tr th:only-of-type {\n",
       "        vertical-align: middle;\n",
       "    }\n",
       "\n",
       "    .dataframe tbody tr th {\n",
       "        vertical-align: top;\n",
       "    }\n",
       "\n",
       "    .dataframe thead th {\n",
       "        text-align: right;\n",
       "    }\n",
       "</style>\n",
       "<table border=\"1\" class=\"dataframe\">\n",
       "  <thead>\n",
       "    <tr style=\"text-align: right;\">\n",
       "      <th></th>\n",
       "      <th>Year</th>\n",
       "      <th>WhiteMale</th>\n",
       "      <th>WhiteFemale</th>\n",
       "      <th>BlackMale</th>\n",
       "      <th>BlackFemale</th>\n",
       "    </tr>\n",
       "  </thead>\n",
       "  <tbody>\n",
       "    <tr>\n",
       "      <th>35</th>\n",
       "      <td>2010</td>\n",
       "      <td>76.5</td>\n",
       "      <td>81.3</td>\n",
       "      <td>71.8</td>\n",
       "      <td>78.0</td>\n",
       "    </tr>\n",
       "    <tr>\n",
       "      <th>36</th>\n",
       "      <td>2011</td>\n",
       "      <td>76.6</td>\n",
       "      <td>81.3</td>\n",
       "      <td>72.2</td>\n",
       "      <td>78.2</td>\n",
       "    </tr>\n",
       "    <tr>\n",
       "      <th>37</th>\n",
       "      <td>2012</td>\n",
       "      <td>76.7</td>\n",
       "      <td>81.4</td>\n",
       "      <td>72.3</td>\n",
       "      <td>78.4</td>\n",
       "    </tr>\n",
       "    <tr>\n",
       "      <th>38</th>\n",
       "      <td>2013</td>\n",
       "      <td>76.7</td>\n",
       "      <td>81.4</td>\n",
       "      <td>72.3</td>\n",
       "      <td>78.4</td>\n",
       "    </tr>\n",
       "    <tr>\n",
       "      <th>39</th>\n",
       "      <td>2014</td>\n",
       "      <td>76.7</td>\n",
       "      <td>81.4</td>\n",
       "      <td>72.5</td>\n",
       "      <td>78.4</td>\n",
       "    </tr>\n",
       "  </tbody>\n",
       "</table>\n",
       "</div>"
      ],
      "text/plain": [
       "    Year  WhiteMale  WhiteFemale  BlackMale  BlackFemale\n",
       "35  2010       76.5         81.3       71.8         78.0\n",
       "36  2011       76.6         81.3       72.2         78.2\n",
       "37  2012       76.7         81.4       72.3         78.4\n",
       "38  2013       76.7         81.4       72.3         78.4\n",
       "39  2014       76.7         81.4       72.5         78.4"
      ]
     },
     "execution_count": 72,
     "metadata": {},
     "output_type": "execute_result"
    }
   ],
   "source": [
    "# .. your code here ..\n",
    "X = pd.read_csv('life_expectancy.csv',sep = '\\t')\n",
    "X.tail()"
   ]
  },
  {
   "cell_type": "code",
   "execution_count": 27,
   "metadata": {},
   "outputs": [
    {
     "data": {
      "text/html": [
       "<div>\n",
       "<style scoped>\n",
       "    .dataframe tbody tr th:only-of-type {\n",
       "        vertical-align: middle;\n",
       "    }\n",
       "\n",
       "    .dataframe tbody tr th {\n",
       "        vertical-align: top;\n",
       "    }\n",
       "\n",
       "    .dataframe thead th {\n",
       "        text-align: right;\n",
       "    }\n",
       "</style>\n",
       "<table border=\"1\" class=\"dataframe\">\n",
       "  <thead>\n",
       "    <tr style=\"text-align: right;\">\n",
       "      <th></th>\n",
       "      <th>Year</th>\n",
       "      <th>WhiteMale</th>\n",
       "      <th>WhiteFemale</th>\n",
       "      <th>BlackMale</th>\n",
       "      <th>BlackFemale</th>\n",
       "    </tr>\n",
       "  </thead>\n",
       "  <tbody>\n",
       "    <tr>\n",
       "      <th>count</th>\n",
       "      <td>40.000000</td>\n",
       "      <td>40.000000</td>\n",
       "      <td>40.000000</td>\n",
       "      <td>40.000000</td>\n",
       "      <td>40.000000</td>\n",
       "    </tr>\n",
       "    <tr>\n",
       "      <th>mean</th>\n",
       "      <td>1991.250000</td>\n",
       "      <td>72.730000</td>\n",
       "      <td>78.592500</td>\n",
       "      <td>65.912500</td>\n",
       "      <td>73.262500</td>\n",
       "    </tr>\n",
       "    <tr>\n",
       "      <th>std</th>\n",
       "      <td>20.536085</td>\n",
       "      <td>4.968681</td>\n",
       "      <td>5.200561</td>\n",
       "      <td>6.422284</td>\n",
       "      <td>7.157592</td>\n",
       "    </tr>\n",
       "    <tr>\n",
       "      <th>min</th>\n",
       "      <td>1900.000000</td>\n",
       "      <td>46.600000</td>\n",
       "      <td>48.700000</td>\n",
       "      <td>32.500000</td>\n",
       "      <td>33.500000</td>\n",
       "    </tr>\n",
       "    <tr>\n",
       "      <th>25%</th>\n",
       "      <td>1984.750000</td>\n",
       "      <td>71.800000</td>\n",
       "      <td>78.700000</td>\n",
       "      <td>64.575000</td>\n",
       "      <td>73.400000</td>\n",
       "    </tr>\n",
       "    <tr>\n",
       "      <th>50%</th>\n",
       "      <td>1994.500000</td>\n",
       "      <td>73.350000</td>\n",
       "      <td>79.650000</td>\n",
       "      <td>65.250000</td>\n",
       "      <td>73.900000</td>\n",
       "    </tr>\n",
       "    <tr>\n",
       "      <th>75%</th>\n",
       "      <td>2004.250000</td>\n",
       "      <td>75.500000</td>\n",
       "      <td>80.500000</td>\n",
       "      <td>69.425000</td>\n",
       "      <td>76.125000</td>\n",
       "    </tr>\n",
       "    <tr>\n",
       "      <th>max</th>\n",
       "      <td>2014.000000</td>\n",
       "      <td>76.700000</td>\n",
       "      <td>81.400000</td>\n",
       "      <td>72.500000</td>\n",
       "      <td>78.400000</td>\n",
       "    </tr>\n",
       "  </tbody>\n",
       "</table>\n",
       "</div>"
      ],
      "text/plain": [
       "              Year  WhiteMale  WhiteFemale  BlackMale  BlackFemale\n",
       "count    40.000000  40.000000    40.000000  40.000000    40.000000\n",
       "mean   1991.250000  72.730000    78.592500  65.912500    73.262500\n",
       "std      20.536085   4.968681     5.200561   6.422284     7.157592\n",
       "min    1900.000000  46.600000    48.700000  32.500000    33.500000\n",
       "25%    1984.750000  71.800000    78.700000  64.575000    73.400000\n",
       "50%    1994.500000  73.350000    79.650000  65.250000    73.900000\n",
       "75%    2004.250000  75.500000    80.500000  69.425000    76.125000\n",
       "max    2014.000000  76.700000    81.400000  72.500000    78.400000"
      ]
     },
     "execution_count": 27,
     "metadata": {},
     "output_type": "execute_result"
    }
   ],
   "source": [
    "X.describe()"
   ]
  },
  {
   "cell_type": "code",
   "execution_count": 11,
   "metadata": {},
   "outputs": [
    {
     "data": {
      "image/png": "[encoded data removed]",
      "text/plain": [
       "<Figure size 432x288 with 6 Axes>"
      ]
     },
     "metadata": {},
     "output_type": "display_data"
    }
   ],
   "source": [
    "X.hist()\n",
    "plt.show()"
   ]
  },
  {
   "cell_type": "markdown",
   "metadata": {
    "id": "DvScm573NZux"
   },
   "source": [
    "\n",
    "Tạo mô hình hồi quy tuyến tính của bạn tại đây và lưu trữ nó trong biến `model`. Đừng huấn luyện thật hoặc làm bất cứ điều gì khác với nó:"
   ]
  },
  {
   "cell_type": "code",
   "execution_count": 5,
   "metadata": {
    "id": "fjM2b1ZqNZuz"
   },
   "outputs": [],
   "source": [
    "# .. your code here ..\n",
    "from sklearn import linear_model\n",
    "model = linear_model.LinearRegression()"
   ]
  },
  {
   "cell_type": "markdown",
   "metadata": {
    "id": "JunfsyPXNZu5"
   },
   "source": [
    "\n",
    "Cắt nhỏ dữ liệu của bạn theo cách thủ công (ví dụ: không sử dụng `train_test_split` mà thực sự tự lập chỉ mục. Đặt `X_train` thành các giá trị năm ÍT hơn 1986 và `y_train` là giá trị tuổi 'WhiteMale' tương ứng. Bạn cũng có thể muốn đọc ghi chú về cách slice (cắt) ở cuối tài liệu này trước khi tiếp tục:"
   ]
  },
  {
   "cell_type": "code",
   "execution_count": 51,
   "metadata": {
    "id": "eOnsQY5gNZu7"
   },
   "outputs": [],
   "source": [
    "# .. your code here ..\n",
    "X_train = X.loc[X['Year'] < 1986,['Year']]\n",
    "y_trainWM = X[X['Year'] < 1986]['WhiteMale']"
   ]
  },
  {
   "cell_type": "markdown",
   "metadata": {
    "id": "66NvFjtzNZvE"
   },
   "source": [
    "## 2. Huấn luyện mô hình\n",
    "Huấn luyện mô hình sau đó truyền nó vào `drawLine` với training set và nhãn."
   ]
  },
  {
   "cell_type": "code",
   "execution_count": 65,
   "metadata": {},
   "outputs": [
    {
     "data": {
      "text/plain": [
       "LinearRegression()"
      ]
     },
     "execution_count": 65,
     "metadata": {},
     "output_type": "execute_result"
    }
   ],
   "source": [
    "# .. your code here ...\n",
    "model.fit (X_train, y_trainWM)"
   ]
  },
  {
   "cell_type": "markdown",
   "metadata": {
    "id": "MBTZzIRsQCRj"
   },
   "source": [
    "## 3. Đánh giá Mô hình\n",
    "Bạn có thể đặt tên cho mô hình là 'WhiteMale'. `drawLine` sẽ xuất ra console (bảng điều khiển) một phép ngoại suy/xấp xỉ năm 2014 cho những gì nó tin rằng tuổi thọ của phụ nữ da trắng ở Hoa Kỳ sẽ là ... dựa trên dữ liệu trước năm 1986 mà bạn đã huấn luyện. Nó cũng sẽ tạo ra một phép ngoại suy năm 2030 và 2045:"
   ]
  },
  {
   "cell_type": "code",
   "execution_count": 67,
   "metadata": {
    "id": "LFoZM7_NQKqw"
   },
   "outputs": [
    {
     "name": "stdout",
     "output_type": "stream",
     "text": [
      "Est 2014 WhiteMale Life Expectancy:  80.85635425623377\n",
      "Est 2030 WhiteMale Life Expectancy:  85.39349383777585\n",
      "Est 2045 WhiteMale Life Expectancy:  89.64706219547145\n"
     ]
    },
    {
     "name": "stderr",
     "output_type": "stream",
     "text": [
      "/Users/chinguyen/miniforge3/envs/tensorflow/lib/python3.9/site-packages/sklearn/base.py:450: UserWarning: X does not have valid feature names, but LinearRegression was fitted with feature names\n",
      "  warnings.warn(\n",
      "/Users/chinguyen/miniforge3/envs/tensorflow/lib/python3.9/site-packages/sklearn/base.py:450: UserWarning: X does not have valid feature names, but LinearRegression was fitted with feature names\n",
      "  warnings.warn(\n",
      "/Users/chinguyen/miniforge3/envs/tensorflow/lib/python3.9/site-packages/sklearn/base.py:450: UserWarning: X does not have valid feature names, but LinearRegression was fitted with feature names\n",
      "  warnings.warn(\n"
     ]
    },
    {
     "data": {
      "image/png": "[encoded data removed]",
      "text/plain": [
       "<Figure size 432x288 with 1 Axes>"
      ]
     },
     "metadata": {},
     "output_type": "display_data"
    }
   ],
   "source": [
    "# .. your code here ..\n",
    "drawLine(model,X_train,y_trainWM,\"WhiteMale\")"
   ]
  },
  {
   "cell_type": "markdown",
   "metadata": {
    "id": "JedI0_4mNZvN"
   },
   "source": [
    "In tuổi thọ thực tế của 'WhiteMale' 2014 từ tập dữ liệu đã tải"
   ]
  },
  {
   "cell_type": "code",
   "execution_count": 61,
   "metadata": {
    "id": "taMzWaXENZvO"
   },
   "outputs": [
    {
     "name": "stdout",
     "output_type": "stream",
     "text": [
      "Actual 2014 WhiteMale Life Expectancy =  76.7\n"
     ]
    }
   ],
   "source": [
    "# .. your code here ..\n",
    "print(\"Actual 2014 WhiteMale Life Expectancy = \", X[X['Year'] == 2014]['WhiteMale'].iloc[0])"
   ]
  },
  {
   "cell_type": "markdown",
   "metadata": {
    "id": "RaU2b5J8NZvU"
   },
   "source": [
    "Lặp lại quá trình, nhưng thay vì cho WhiteMale, lần này chọn BlackFemale. Tạo một lát cho BlackFemales, fit mô hình, sau đó gọi `drawLine`. Cuối cùng, hãy in ra tuổi thọ thực tế của BlackFemale 2014:"
   ]
  },
  {
   "cell_type": "code",
   "execution_count": 70,
   "metadata": {
    "id": "WzCxoeVENZvV"
   },
   "outputs": [
    {
     "name": "stdout",
     "output_type": "stream",
     "text": [
      "Est 2014 BlackFemale Life Expectancy:  88.69889939810844\n",
      "Est 2030 BlackFemale Life Expectancy:  96.11438807681293\n",
      "Est 2045 BlackFemale Life Expectancy:  103.06640871309844\n"
     ]
    },
    {
     "name": "stderr",
     "output_type": "stream",
     "text": [
      "/Users/chinguyen/miniforge3/envs/tensorflow/lib/python3.9/site-packages/sklearn/base.py:450: UserWarning: X does not have valid feature names, but LinearRegression was fitted with feature names\n",
      "  warnings.warn(\n",
      "/Users/chinguyen/miniforge3/envs/tensorflow/lib/python3.9/site-packages/sklearn/base.py:450: UserWarning: X does not have valid feature names, but LinearRegression was fitted with feature names\n",
      "  warnings.warn(\n",
      "/Users/chinguyen/miniforge3/envs/tensorflow/lib/python3.9/site-packages/sklearn/base.py:450: UserWarning: X does not have valid feature names, but LinearRegression was fitted with feature names\n",
      "  warnings.warn(\n"
     ]
    },
    {
     "data": {
      "image/png": "[encoded data removed]",
      "text/plain": [
       "<Figure size 432x288 with 1 Axes>"
      ]
     },
     "metadata": {},
     "output_type": "display_data"
    }
   ],
   "source": [
    "# .. your code here .. \n",
    "y_trainBW = X[X['Year'] < 1986]['BlackFemale']\n",
    "model.fit(X_train,y_trainBW)\n",
    "drawLine(model,X_train,y_trainBW,\"BlackFemale\")"
   ]
  },
  {
   "cell_type": "code",
   "execution_count": 71,
   "metadata": {},
   "outputs": [
    {
     "name": "stdout",
     "output_type": "stream",
     "text": [
      "Actual 2014 WhiteMale Life Expectancy =  78.4\n"
     ]
    }
   ],
   "source": [
    "print(\"Actual 2014 WhiteMale Life Expectancy = \", X[X['Year'] == 2014]['BlackFemale'].iloc[0])"
   ]
  },
  {
   "cell_type": "markdown",
   "metadata": {
    "id": "nmOKKBrmNZvb"
   },
   "source": [
    "Cuối cùng, in ra một ma trận tương quan cho toàn bộ tập dữ liệu và hiển thị hình ảnh trực quan của ma trận tương quan, giống như chúng tôi đã mô tả trong phần trực quan của khóa học:"
   ]
  },
  {
   "cell_type": "code",
   "execution_count": 73,
   "metadata": {
    "id": "VHq2oDlGNZvd"
   },
   "outputs": [
    {
     "name": "stdout",
     "output_type": "stream",
     "text": [
      "Correlation matrix: \n",
      "                 Year  WhiteMale  WhiteFemale  BlackMale  BlackFemale\n",
      "Year         1.000000   0.974154     0.913907   0.960635     0.940429\n",
      "WhiteMale    0.974154   1.000000     0.975164   0.987974     0.985009\n",
      "WhiteFemale  0.913907   0.975164     1.000000   0.956689     0.994656\n",
      "BlackMale    0.960635   0.987974     0.956689   1.000000     0.975922\n",
      "BlackFemale  0.940429   0.985009     0.994656   0.975922     1.000000\n"
     ]
    },
    {
     "data": {
      "text/plain": [
       "Text(0.5, 1.0, 'Correlation matrix')"
      ]
     },
     "execution_count": 73,
     "metadata": {},
     "output_type": "execute_result"
    },
    {
     "data": {
      "image/png": "[encoded data removed]",
      "text/plain": [
       "<Figure size 432x288 with 2 Axes>"
      ]
     },
     "metadata": {},
     "output_type": "display_data"
    }
   ],
   "source": [
    "# .. your code here ..\n",
    "print(\"Correlation matrix: \")\n",
    "print(X.corr())\n",
    "\n",
    "fig, ax = plt.subplots()\n",
    "im = ax.imshow(X.corr(), cmap=plt.cm.Blues, interpolation='nearest')\n",
    "plt.colorbar(im)\n",
    "tick_marks = [i for i in range(len(X.columns))]\n",
    "plt.xticks(tick_marks, X.columns, rotation='vertical')\n",
    "plt.yticks(tick_marks, X.columns)\n",
    "\n",
    "ax.set_title(\"Correlation matrix\")"
   ]
  },
  {
   "cell_type": "code",
   "execution_count": 74,
   "metadata": {
    "id": "TnoXl25SNZvm"
   },
   "outputs": [],
   "source": [
    "plt.show()"
   ]
  },
  {
   "cell_type": "markdown",
   "metadata": {
    "id": "K4uQ-vVeNZvu"
   },
   "source": [
    "## Lưu ý về Fitting, Scoring, và Predicting:"
   ]
  },
  {
   "cell_type": "markdown",
   "metadata": {
    "id": "BEBtKp4jNZvw"
   },
   "source": [
    "Đây là một gợi ý để giúp bạn hoàn thành lab mà không cần vò đầu bứt tai! Khi sử dụng `.fit()`, `.score()`, và `.predict()` trên mô hình, SciKit-Learn mong muốn dữ liệu training ở dạng bảng tính (giống Mảng 2D). Điều này có nghĩa là bạn không thể chỉ truyền vào Mảng 1D (slice) là xong.\n",
    "\n",
    "Để chuẩn bị dữ liệu hợp lý, bạn phải truyền vào Mảng Numpy 2D hoặc một khung dữ liệu. Nhưng điều gì sẽ xảy ra nếu bạn thực sự chỉ muốn truyền vào một đặc trưng duy nhất?\n",
    "\n",
    "Nếu bạn slice khung dữ liệu của mình bằng cú pháp `df[['ColumnName']]`, kết quả trả về thực là _dataframe_. Hãy tiếp tục và thực hiện `type()` trên đó để kiểm tra. Vì nó đã là một khung dữ liệu nên bạn không cần thay đổi gì thêm.\n",
    "\n",
    "Nhưng nếu bạn slice khung dữ liệu bằng cú pháp `df.ColumnName` HOẶC nếu bạn gọi `df ['ColumnName']`, kết quả trả về thực sự là một chuỗi (Mảng 1D)! Điều này sẽ khiến SKLearn gặp lỗi. Vì vậy, nếu bạn đang cắt bằng một trong hai kỹ thuật đó, trước khi gửi dữ liệu training hoặc testing tới `.fit` / `.score`, hãy thực hiện `any_column = my_column.reshape(-1,1)`.\n",
    "\n",
    "Thao tác này sẽ chuyển đổi mảng 1D là `[n_samples]` thành mảng 2D có shape là `[n_samples, 1]`. Một đặc trung duy nhất với nhiều mẫu.\n",
    "\n",
    "Nếu bạn đã làm điều gì đó như `my_column = [my_column]`, điều đó sẽ tạo ra một mảng có shape `[1, n_samples]`, điều này không chính xác vì SKLearn mong muốn dữ liệu của bạn được sắp xếp thành `[n_samples, n_features]`. Hãy nhớ rằng tất cả những điều trên chỉ liên quan đến `X` hoặc dữ liệu đầu vào và không áp dụng cho `y` hoặc nhãn."
   ]
  }
 ],
 "metadata": {
  "anaconda-cloud": {},
  "colab": {
   "collapsed_sections": [],
   "name": "Lab_1_2_Life_Expectancy.ipynb",
   "provenance": []
  },
  "kernelspec": {
   "display_name": "Python 3 (ipykernel)",
   "language": "python",
   "name": "python3"
  },
  "language_info": {
   "codemirror_mode": {
    "name": "ipython",
    "version": 3
   },
   "file_extension": ".py",
   "mimetype": "text/x-python",
   "name": "python",
   "nbconvert_exporter": "python",
   "pygments_lexer": "ipython3",
   "version": "3.9.7"
  },
  "toc": {
   "colors": {
    "hover_highlight": "#DAA520",
    "running_highlight": "#FF0000",
    "selected_highlight": "#FFD700"
   },
   "moveMenuLeft": true,
   "nav_menu": {
    "height": "58px",
    "width": "252px"
   },
   "navigate_menu": true,
   "number_sections": true,
   "sideBar": true,
   "threshold": 4,
   "toc_cell": false,
   "toc_section_display": "block",
   "toc_window_display": false,
   "widenNotebook": false
  }
 },
 "nbformat": 4,
 "nbformat_minor": 4
}
