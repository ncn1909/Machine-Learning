{
 "cells": [
  {
   "cell_type": "markdown",
   "metadata": {
    "id": "CtpmzhmaTg_C"
   },
   "source": [
    "# Sound Magician\n",
    "\n",
    "Thời lượng ước tính: **120** phút\n",
    "\n",
    "## Giới thiệu lab\n",
    "Nâng cao! Có thể bạn đã từng xem một bộ phim hoặc chương trình truyền hình mà các điệp viên siêu hạng sử dụng một số kỹ thuật khó tin để nâng cao hình ảnh pixelated hoặc khôi phục một số dữ liệu bị mất. Trong lab này, bạn sẽ thực hiện điều tương tự — lần này mục tiêu của bạn là sử dụng hồi quy tuyến tính để khôi phục hoặc 'điền vào' phần bị xóa hoàn toàn của một tệp âm thanh!\n",
    "\n",
    "Để hoàn thành lab này, bạn sẽ sử dụng FSDD (Free-Spoken-Digits-Dataset), một tập dữ liệu âm thanh do Zohar Jackson tổng hợp lại khi anh ấy nhận thấy không có nhiều âm thanh được làm sạch (không có khoảng trống, độ dài tương đương, cùng bitrate, cùng tỷ lệ mẫu trên giây, ...) thư viện âm thanh sẵn sàng cho machine learning."
   ]
  },
  {
   "cell_type": "code",
   "execution_count": 1,
   "metadata": {
    "id": "UPQa1SVTTg_G"
   },
   "outputs": [],
   "source": [
    "import numpy as np\n",
    "import pandas as pd\n",
    "\n",
    "from sklearn.utils.validation import check_random_state\n",
    "import scipy.io.wavfile as wavfile"
   ]
  },
  {
   "cell_type": "markdown",
   "metadata": {
    "id": "FIJAy5U0Tg_T"
   },
   "source": [
    "### Về Âm thanh"
   ]
  },
  {
   "cell_type": "markdown",
   "metadata": {
    "id": "y9lY3g5oTg_U"
   },
   "source": [
    "Mẫu là các quan sát. Mỗi tệp âm thanh sẽ là một mẫu duy nhất trong tập dữ liệu.\n",
    "\n",
    "Tìm thêm thông tin về [Mẫu âm thanh tại đây] (https://en.wikipedia.org/wiki/Sampling_(signal_processing)).\n",
    "\n",
    "Mỗi tệp .wav thực sự chỉ là một loạt các mẫu số, được lấy mẫu từ tín hiệu analog. Sampling (Lấy mẫu) là một kiểu rời rạc. Khi chúng ta đề cập đến các 'sample (mẫu)', tức là các quan sát. Khi đề cập đến 'audio sample', chúng ta muốn nói đến \"feature (thuộc tính)\" thực sự của tệp âm thanh.\n",
    "\n",
    "Mục tiêu của lab này là sử dụng hồi quy tuyến tính, đa mục tiêu để tạo ra bằng phép ngoại suy phần bị thiếu của tệp âm thanh thử nghiệm.\n",
    "\n",
    "Mỗi một thuộc tính audio_sample sẽ là đầu ra của một phương trình, là một hàm của phần được cung cấp của audio_samples:\n",
    "\n",
    "    missing_samples = f(provided_samples)\n",
    "\n",
    "Bạn có thể thử với lượng âm thanh bạn muốn cắt và để máy tính tạo ra bằng tham số Provided_Portion."
   ]
  },
  {
   "cell_type": "markdown",
   "metadata": {
    "id": "ayulRqRrTg_W"
   },
   "source": [
    "Hãy sử dụng cái này. Đây là lượng tệp âm thanh sẽ được cung cấp, tính bằng phần trăm. Phần trăm còn lại của tệp sẽ được tạo thông qua phép ngoại suy tuyến tính."
   ]
  },
  {
   "cell_type": "code",
   "execution_count": 2,
   "metadata": {
    "id": "i7chXL5DTg_X"
   },
   "outputs": [],
   "source": [
    "Provided_Portion = 0.25"
   ]
  },
  {
   "cell_type": "markdown",
   "metadata": {
    "id": "CvGpdC1RTg_d"
   },
   "source": [
    "## 1. Chuẩn bị dữ liệu"
   ]
  },
  {
   "cell_type": "markdown",
   "metadata": {
    "id": "KMngCekmTg_f"
   },
   "source": [
    "Bắt đầu bằng cách tạo một list Python thông thường là `zero`:"
   ]
  },
  {
   "cell_type": "code",
   "execution_count": 3,
   "metadata": {
    "id": "14JWhfK6Tg_g"
   },
   "outputs": [
    {
     "data": {
      "text/plain": [
       "50"
      ]
     },
     "execution_count": 3,
     "metadata": {},
     "output_type": "execute_result"
    }
   ],
   "source": [
    "# Nhập code của bạn ở đây\n",
    "import glob\n",
    "data_wav = glob.glob('data/*.wav')\n",
    "len(data_wav)"
   ]
  },
  {
   "cell_type": "code",
   "execution_count": 25,
   "metadata": {},
   "outputs": [],
   "source": [
    "zero = []\n",
    "for wav_file in data_wav:\n",
    "    sample_rate, data = wavfile.read(wav_file, mmap=False)\n",
    "    #print('Sample Rate: {}, Data: {}'.format(samplerate,data))\n",
    "    zero.append(data)"
   ]
  },
  {
   "cell_type": "markdown",
   "metadata": {
    "id": "lJTKO612Tg_m"
   },
   "source": [
    "Lặp qua tập dữ liệu và tải lên tất cả 50 tệp `0_jackson*.wav` bằng phương thức `wavfile.read()`: https://docs.scipy.org/doc/scipy-0.14.0/reference/generated/scipy.io.wavfile.read.html từ thư mục [data](https://drive.google.com/drive/folders/1UDAvuRfXzcOcpI84neQAmAeffIrJKKBi?usp=sharing).\n",
    "\n",
    "Hãy cẩn thận! `.read()` trả về một tuple và bạn chỉ quan tâm đến dữ liệu âm thanh chứ không phải sample_rate tại thời điểm này. Bên trong vòng lặp for, chỉ cần nối dữ liệu âm thanh đã tải vào list Python `zero`:"
   ]
  },
  {
   "cell_type": "code",
   "execution_count": 5,
   "metadata": {
    "id": "DUwnRGm-Tg_n"
   },
   "outputs": [
    {
     "data": {
      "text/plain": [
       "[array([343, 404, 454, ..., 420, 377, 345], dtype=int16),\n",
       " array([-311,  -91, -140, ...,  378,  357,  333], dtype=int16),\n",
       " array([ 320,  372,  421, ..., -234, -264, -302], dtype=int16),\n",
       " array([-369, -431, -475, ...,  301,  324,  304], dtype=int16),\n",
       " array([-361, -226, -238, ..., -286, -311, -343], dtype=int16),\n",
       " array([ 301,  394,  507, ..., -423, -401, -329], dtype=int16),\n",
       " array([ 323,  338,  357, ..., -246, -280, -301], dtype=int16),\n",
       " array([-316, -377, -435, ..., -325, -311, -301], dtype=int16),\n",
       " array([ 322,  395,  470, ..., -344, -343, -319], dtype=int16),\n",
       " array([-417,  152,  168, ...,  312,  316,  309], dtype=int16),\n",
       " array([355, 425, 481, ..., 398, 372, 332], dtype=int16),\n",
       " array([ 364,  420,  469, ..., -326, -334, -351], dtype=int16),\n",
       " array([-302, -312, -103, ..., -338, -333, -348], dtype=int16),\n",
       " array([-307, -334, -336, ...,  354,  328,  312], dtype=int16),\n",
       " array([ 305,  365,  419, ..., -313, -342, -346], dtype=int16),\n",
       " array([ 331,  404,  490, ..., -297, -307, -318], dtype=int16),\n",
       " array([ 335,  392,  481, ..., -302, -314, -304], dtype=int16),\n",
       " array([-328, -372, -403, ...,  219,  298,  329], dtype=int16),\n",
       " array([-313, -347, -332, ..., -317, -350, -331], dtype=int16),\n",
       " array([-358, -447, -533, ..., -313, -261, -310], dtype=int16),\n",
       " array([-328, -401, -471, ..., -213, -274, -360], dtype=int16),\n",
       " array([-316, -336, -342, ..., -442, -424, -310], dtype=int16),\n",
       " array([ 332,    0,  -58, ..., -473, -511, -418], dtype=int16),\n",
       " array([-310, -377, -502, ...,  294,  351,  323], dtype=int16),\n",
       " array([ 310,  339,  351, ..., -327, -351, -311], dtype=int16),\n",
       " array([-304, -319, -377, ..., -438, -457, -425], dtype=int16),\n",
       " array([-350, -391, -371, ..., -454, -416, -358], dtype=int16),\n",
       " array([ 306,  399,  455, ..., -228, -345, -344], dtype=int16),\n",
       " array([-348, -418, -431, ...,  329,  357,  354], dtype=int16),\n",
       " array([ 342,  452,  546, ..., -356, -353, -332], dtype=int16),\n",
       " array([-309, -385, -459, ...,  363,  364,  306], dtype=int16),\n",
       " array([-309, -323, -333, ..., -301, -300, -304], dtype=int16),\n",
       " array([ 305,  305,  294, ..., -379, -342, -300], dtype=int16),\n",
       " array([303, 348, 354, ..., 135, 186, 302], dtype=int16),\n",
       " array([-326, -362, -376, ..., -315, -321, -316], dtype=int16),\n",
       " array([-314, -303, -332, ..., -355, -343, -322], dtype=int16),\n",
       " array([347, 351, 462, ..., 365, 338, 302], dtype=int16),\n",
       " array([-317, -199, -303, ...,  393,  409,  384], dtype=int16),\n",
       " array([ 354,  442,  610, ..., -312, -336, -333], dtype=int16),\n",
       " array([-336,  160,   65, ..., -315, -343, -319], dtype=int16),\n",
       " array([-393,   54,  -71, ...,  319,  340,  313], dtype=int16),\n",
       " array([-311, -363, -318, ..., -239, -305, -304], dtype=int16),\n",
       " array([ 382,  459,  530, ..., -254, -301, -309], dtype=int16),\n",
       " array([-317, -346, -377, ...,  451,  432,  351], dtype=int16),\n",
       " array([-332, -396, -502, ..., -267, -274, -322], dtype=int16),\n",
       " array([ 397,  531,  638, ..., -357, -386, -353], dtype=int16),\n",
       " array([ 330,  382,  389, ..., -410, -400, -385], dtype=int16),\n",
       " array([-312, -335, -338, ...,  384,  371,  345], dtype=int16),\n",
       " array([-302, -337, -371, ...,   59, -180, -352], dtype=int16),\n",
       " array([-439, -572, -656, ...,  425,  343,  310], dtype=int16)]"
      ]
     },
     "execution_count": 5,
     "metadata": {},
     "output_type": "execute_result"
    }
   ],
   "source": [
    "# Nhập code của bạn ở đây\n",
    "zero"
   ]
  },
  {
   "cell_type": "markdown",
   "metadata": {
    "id": "dzHr1FEzTg_u"
   },
   "source": [
    "Hãy dành một chút thời gian để chuyển 0 thành một khung dữ liệu (DataFrame). Khi bạn làm như vậy, hãy đặt `dtype` thành `np.int16`, vì các tệp âm thanh đầu vào là 16 bit cho mỗi mẫu. Nếu bạn không biết cách thực hiện việc này, hãy đọc tài liệu tại đây: http://pandas.pydata.org/pandas-docs/stable/generated/pandas.DataFrame.html\n",
    "\n",
    "Tiếc là những đoạn âm thanh này không được chuẩn hóa độ dài nên chúng ta sẽ phải chia nhỏ chúng để tất cả có cùng độ dài. Vì Pandas sẽ chèn các NAN tại bất kỳ vị trí nào để tạo thành mảng [n_observed_samples, n_audio_samples] hình chữ nhật hoàn hảo nên hãy thực hiện một `dropna` trên trục Y ở đây. Sau đó, chuyển đổi 1 trở lại thành NDArray bằng `yourarrayname.values`:"
   ]
  },
  {
   "cell_type": "code",
   "execution_count": 6,
   "metadata": {
    "id": "HzG76oSaTg_v"
   },
   "outputs": [
    {
     "data": {
      "text/html": [
       "<div>\n",
       "<style scoped>\n",
       "    .dataframe tbody tr th:only-of-type {\n",
       "        vertical-align: middle;\n",
       "    }\n",
       "\n",
       "    .dataframe tbody tr th {\n",
       "        vertical-align: top;\n",
       "    }\n",
       "\n",
       "    .dataframe thead th {\n",
       "        text-align: right;\n",
       "    }\n",
       "</style>\n",
       "<table border=\"1\" class=\"dataframe\">\n",
       "  <thead>\n",
       "    <tr style=\"text-align: right;\">\n",
       "      <th></th>\n",
       "      <th>0</th>\n",
       "      <th>1</th>\n",
       "      <th>2</th>\n",
       "      <th>3</th>\n",
       "      <th>4</th>\n",
       "      <th>5</th>\n",
       "      <th>6</th>\n",
       "      <th>7</th>\n",
       "      <th>8</th>\n",
       "      <th>9</th>\n",
       "      <th>...</th>\n",
       "      <th>6263</th>\n",
       "      <th>6264</th>\n",
       "      <th>6265</th>\n",
       "      <th>6266</th>\n",
       "      <th>6267</th>\n",
       "      <th>6268</th>\n",
       "      <th>6269</th>\n",
       "      <th>6270</th>\n",
       "      <th>6271</th>\n",
       "      <th>6272</th>\n",
       "    </tr>\n",
       "  </thead>\n",
       "  <tbody>\n",
       "    <tr>\n",
       "      <th>0</th>\n",
       "      <td>343</td>\n",
       "      <td>404</td>\n",
       "      <td>454</td>\n",
       "      <td>477</td>\n",
       "      <td>477</td>\n",
       "      <td>462</td>\n",
       "      <td>425</td>\n",
       "      <td>393</td>\n",
       "      <td>364</td>\n",
       "      <td>311</td>\n",
       "      <td>...</td>\n",
       "      <td>NaN</td>\n",
       "      <td>NaN</td>\n",
       "      <td>NaN</td>\n",
       "      <td>NaN</td>\n",
       "      <td>NaN</td>\n",
       "      <td>NaN</td>\n",
       "      <td>NaN</td>\n",
       "      <td>NaN</td>\n",
       "      <td>NaN</td>\n",
       "      <td>NaN</td>\n",
       "    </tr>\n",
       "    <tr>\n",
       "      <th>1</th>\n",
       "      <td>-311</td>\n",
       "      <td>-91</td>\n",
       "      <td>-140</td>\n",
       "      <td>-182</td>\n",
       "      <td>-271</td>\n",
       "      <td>-68</td>\n",
       "      <td>-235</td>\n",
       "      <td>-359</td>\n",
       "      <td>-129</td>\n",
       "      <td>-198</td>\n",
       "      <td>...</td>\n",
       "      <td>NaN</td>\n",
       "      <td>NaN</td>\n",
       "      <td>NaN</td>\n",
       "      <td>NaN</td>\n",
       "      <td>NaN</td>\n",
       "      <td>NaN</td>\n",
       "      <td>NaN</td>\n",
       "      <td>NaN</td>\n",
       "      <td>NaN</td>\n",
       "      <td>NaN</td>\n",
       "    </tr>\n",
       "    <tr>\n",
       "      <th>2</th>\n",
       "      <td>320</td>\n",
       "      <td>372</td>\n",
       "      <td>421</td>\n",
       "      <td>468</td>\n",
       "      <td>514</td>\n",
       "      <td>544</td>\n",
       "      <td>564</td>\n",
       "      <td>576</td>\n",
       "      <td>581</td>\n",
       "      <td>565</td>\n",
       "      <td>...</td>\n",
       "      <td>NaN</td>\n",
       "      <td>NaN</td>\n",
       "      <td>NaN</td>\n",
       "      <td>NaN</td>\n",
       "      <td>NaN</td>\n",
       "      <td>NaN</td>\n",
       "      <td>NaN</td>\n",
       "      <td>NaN</td>\n",
       "      <td>NaN</td>\n",
       "      <td>NaN</td>\n",
       "    </tr>\n",
       "    <tr>\n",
       "      <th>3</th>\n",
       "      <td>-369</td>\n",
       "      <td>-431</td>\n",
       "      <td>-475</td>\n",
       "      <td>-543</td>\n",
       "      <td>-571</td>\n",
       "      <td>-557</td>\n",
       "      <td>-528</td>\n",
       "      <td>-455</td>\n",
       "      <td>-394</td>\n",
       "      <td>-305</td>\n",
       "      <td>...</td>\n",
       "      <td>NaN</td>\n",
       "      <td>NaN</td>\n",
       "      <td>NaN</td>\n",
       "      <td>NaN</td>\n",
       "      <td>NaN</td>\n",
       "      <td>NaN</td>\n",
       "      <td>NaN</td>\n",
       "      <td>NaN</td>\n",
       "      <td>NaN</td>\n",
       "      <td>NaN</td>\n",
       "    </tr>\n",
       "    <tr>\n",
       "      <th>4</th>\n",
       "      <td>-361</td>\n",
       "      <td>-226</td>\n",
       "      <td>-238</td>\n",
       "      <td>-478</td>\n",
       "      <td>-425</td>\n",
       "      <td>-395</td>\n",
       "      <td>-663</td>\n",
       "      <td>-879</td>\n",
       "      <td>-726</td>\n",
       "      <td>-997</td>\n",
       "      <td>...</td>\n",
       "      <td>NaN</td>\n",
       "      <td>NaN</td>\n",
       "      <td>NaN</td>\n",
       "      <td>NaN</td>\n",
       "      <td>NaN</td>\n",
       "      <td>NaN</td>\n",
       "      <td>NaN</td>\n",
       "      <td>NaN</td>\n",
       "      <td>NaN</td>\n",
       "      <td>NaN</td>\n",
       "    </tr>\n",
       "  </tbody>\n",
       "</table>\n",
       "<p>5 rows × 6273 columns</p>\n",
       "</div>"
      ],
      "text/plain": [
       "   0     1     2     3     4     5     6     7     8     9     ...  6263  \\\n",
       "0   343   404   454   477   477   462   425   393   364   311  ...   NaN   \n",
       "1  -311   -91  -140  -182  -271   -68  -235  -359  -129  -198  ...   NaN   \n",
       "2   320   372   421   468   514   544   564   576   581   565  ...   NaN   \n",
       "3  -369  -431  -475  -543  -571  -557  -528  -455  -394  -305  ...   NaN   \n",
       "4  -361  -226  -238  -478  -425  -395  -663  -879  -726  -997  ...   NaN   \n",
       "\n",
       "   6264  6265  6266  6267  6268  6269  6270  6271  6272  \n",
       "0   NaN   NaN   NaN   NaN   NaN   NaN   NaN   NaN   NaN  \n",
       "1   NaN   NaN   NaN   NaN   NaN   NaN   NaN   NaN   NaN  \n",
       "2   NaN   NaN   NaN   NaN   NaN   NaN   NaN   NaN   NaN  \n",
       "3   NaN   NaN   NaN   NaN   NaN   NaN   NaN   NaN   NaN  \n",
       "4   NaN   NaN   NaN   NaN   NaN   NaN   NaN   NaN   NaN  \n",
       "\n",
       "[5 rows x 6273 columns]"
      ]
     },
     "execution_count": 6,
     "metadata": {},
     "output_type": "execute_result"
    }
   ],
   "source": [
    "# Nhập code của bạn ở đây\n",
    "df = pd.DataFrame(zero,dtype=np.int16)\n",
    "df.head()"
   ]
  },
  {
   "cell_type": "code",
   "execution_count": 7,
   "metadata": {},
   "outputs": [],
   "source": [
    "df.dropna(axis=1,inplace=True)"
   ]
  },
  {
   "cell_type": "code",
   "execution_count": 8,
   "metadata": {},
   "outputs": [
    {
     "data": {
      "text/plain": [
       "0       0\n",
       "1       0\n",
       "2       0\n",
       "3       0\n",
       "4       0\n",
       "       ..\n",
       "4082    0\n",
       "4083    0\n",
       "4084    0\n",
       "4085    0\n",
       "4086    0\n",
       "Length: 4087, dtype: int64"
      ]
     },
     "execution_count": 8,
     "metadata": {},
     "output_type": "execute_result"
    }
   ],
   "source": [
    "df.isnull().sum()"
   ]
  },
  {
   "cell_type": "code",
   "execution_count": 17,
   "metadata": {},
   "outputs": [
    {
     "data": {
      "text/plain": [
       "array([[ 343,  404,  454, ..., 2000, 3001, 3651],\n",
       "       [-311,  -91, -140, ..., -422, -462, -460],\n",
       "       [ 320,  372,  421, ..., 1433, 1616, 1427],\n",
       "       ...,\n",
       "       [-312, -335, -338, ...,  644,  815,  580],\n",
       "       [-302, -337, -371, ..., 1105,  559,  477],\n",
       "       [-439, -572, -656, ..., 1026, 2322, 2618]], dtype=int16)"
      ]
     },
     "execution_count": 17,
     "metadata": {},
     "output_type": "execute_result"
    }
   ],
   "source": [
    "df = df.values\n",
    "df"
   ]
  },
  {
   "cell_type": "code",
   "execution_count": 18,
   "metadata": {},
   "outputs": [
    {
     "name": "stdout",
     "output_type": "stream",
     "text": [
      "<class 'list'>\n"
     ]
    }
   ],
   "source": [
    "print (type(zero) )"
   ]
  },
  {
   "cell_type": "markdown",
   "metadata": {
    "id": "litpLIunTg_2"
   },
   "source": [
    "Điều quan trọng là phải biết  (bao nhiêu mẫu audio_samples) độ dài dữ liệu hiện có.\n",
    "\n",
    "`zero` hiện có shape giống như` [n_samples, n_audio_samples] `, vì vậy hãy lấy số lượng` n_audio_samples` và lưu trữ nó trong biến `n_audio_samples`:"
   ]
  },
  {
   "cell_type": "code",
   "execution_count": 19,
   "metadata": {
    "id": "BJT-HkwsTg_4"
   },
   "outputs": [
    {
     "name": "stdout",
     "output_type": "stream",
     "text": [
      "4087\n"
     ]
    }
   ],
   "source": [
    "# Nhập code của bạn ở đây\n",
    "n_audio_samples = df.shape[1]\n",
    "print (n_audio_samples)"
   ]
  },
  {
   "cell_type": "markdown",
   "metadata": {
    "id": "X_o9dFonajuZ"
   },
   "source": [
    "## 2. Huấn luyện mô hình"
   ]
  },
  {
   "cell_type": "markdown",
   "metadata": {
    "id": "OKs-DpagTg__"
   },
   "source": [
    "Tạo mô hình hồi quy tuyến tính của bạn tại đây và lưu trữ nó trong biến `model`. Đừng vội huấn luyện hoặc làm bất cứ điều gì khác với nó:"
   ]
  },
  {
   "cell_type": "code",
   "execution_count": 20,
   "metadata": {
    "id": "YYi87mhQThAA"
   },
   "outputs": [],
   "source": [
    "# Nhập code của bạn ở đây\n",
    "from sklearn import linear_model\n",
    "model = linear_model.LinearRegression()"
   ]
  },
  {
   "cell_type": "markdown",
   "metadata": {
    "id": "Q1sUz2UwThAF"
   },
   "source": [
    "Có 50 bản ghi mỗi clip. Bạn chỉ muốn lấy ngẫu nhiên một trong số chúng ra và cái đó sẽ KHÔNG được sử dụng trong quá trình huấn luyện mô hình. Nói cách khác, tệp mà chúng ta sẽ kiểm tra/chấm điểm sẽ là một mẫu không nhìn thấy, độc lập với phần còn lại của training set:"
   ]
  },
  {
   "cell_type": "code",
   "execution_count": 22,
   "metadata": {
    "id": "8ewvSE_1ThAG"
   },
   "outputs": [],
   "source": [
    "# Hãy để nguyên dòng này cho đến khi bạn đã submit bài Lab của mình:\n",
    "rng = check_random_state(7)\n",
    "\n",
    "random_idx = rng.randint(df.shape[0])\n",
    "test  = df[random_idx]\n",
    "train = np.delete(df, [random_idx], axis=0)"
   ]
  },
  {
   "cell_type": "markdown",
   "metadata": {
    "id": "l-ft2fTvThAO"
   },
   "source": [
    "In ra shape của `train` và `test`.\n",
    "\n",
    "`train` sẽ có dạng:`[n_samples, n_audio_samples]`, trong đó `n_audio_samples` là 'features' (thuộc tính) của tệp âm thanh\n",
    "\n",
    "`test` sẽ có dạng `[n_audio_features]`, vì nó là mẫu duy nhất (tệp âm thanh, ví dụ: quan sát)."
   ]
  },
  {
   "cell_type": "code",
   "execution_count": 23,
   "metadata": {
    "id": "Soc8ciucThAP"
   },
   "outputs": [
    {
     "name": "stdout",
     "output_type": "stream",
     "text": [
      "Shapes of train and test: (49, 4087) (4087,)\n"
     ]
    }
   ],
   "source": [
    "# Nhập code của bạn ở đây\n",
    "print (\"Shapes of train and test:\", train.shape, test.shape)"
   ]
  },
  {
   "cell_type": "markdown",
   "metadata": {
    "id": "xIoIIWN-ThAb"
   },
   "source": [
    "Dữ liệu thử nghiệm sẽ có hai phần, `X_test` và` y_test`.\n",
    "\n",
    "`X_test` là phần đầu tiên của tệp âm thanh thử nghiệm mà chúng ta sẽ cung cấp cho máy tính làm input.\n",
    "\n",
    "`y_test`,\"nhãn\" sẽ là phần còn lại của tệp âm thanh. Như vậy, máy tính sẽ sử dụng hồi quy tuyến tính để lấy ra phần bị thiếu của tệp âm thanh dựa trên dữ liệu huấn luyện mà nó nhận được!\n",
    "\n",
    "Hãy lưu clip `test` ban đầu, clip mà bạn sắp xóa một nửa vào thư mục hiện tại để bạn có thể so sánh nó với clip 'đã vá' sau khi tạo. Bạn hẳn đã có `sample_rate` khi tải lên các tệp .wav: "
   ]
  },
  {
   "cell_type": "code",
   "execution_count": 26,
   "metadata": {
    "id": "zxPW90H9ThAd"
   },
   "outputs": [],
   "source": [
    "wavfile.write('Original Test Clip.wav', sample_rate, test)"
   ]
  },
  {
   "cell_type": "markdown",
   "metadata": {
    "id": "rIkmkMqNThAk"
   },
   "source": [
    "Chuẩn bị dữ liệu TEST bằng cách tạo lát `X_test`. Nó phải có các thuộc tính mẫu âm thanh `Provided_Portion` * `n_audio_samples`, được lấy từ tệp âm thanh thử nghiệm, hiện được lưu trữ trong biến `test`. Nói cách khác, lấy các thuộc tính âm thanh `Provided_Portion` * `n_audio_samples` ĐẦU TIÊN từ `test` và lưu trữ nó trong` X_test`. Điều này sẽ được thực hiện bằng cách sử dụng lập chỉ mục:"
   ]
  },
  {
   "cell_type": "code",
   "execution_count": 29,
   "metadata": {
    "id": "IECZK7pGThAl"
   },
   "outputs": [
    {
     "data": {
      "text/plain": [
       "array([-312, -335, -338, ..., 3429, 5376, 6313], dtype=int16)"
      ]
     },
     "execution_count": 29,
     "metadata": {},
     "output_type": "execute_result"
    }
   ],
   "source": [
    "# Nhập code của bạn ở đây\n",
    "X_test = test[:int(Provided_Portion*n_audio_samples)]\n",
    "X_test"
   ]
  },
  {
   "cell_type": "markdown",
   "metadata": {
    "id": "Pt50X7z-ThAw"
   },
   "source": [
    "Nếu các thuộc tính `Provided_Portion` * `n_audio_samples` đầu tiên được lưu trữ trong `X_test`, thì chúng ta cũng cần lấy các thuộc tính âm thanh _còn lại_ và lưu trữ chúng trong` y_test`. Với các thuộc tính còn lại được lưu trữ trong đó, chúng ta sẽ có thể R ^ 2 \"chấm điểm\" thuật toán đã làm tốt như thế nào trong việc hoàn thành tệp âm thanh."
   ]
  },
  {
   "cell_type": "code",
   "execution_count": 30,
   "metadata": {
    "id": "AbbmCXo9ThAx"
   },
   "outputs": [
    {
     "data": {
      "text/plain": [
       "array([7931, 8749, 7650, ...,  644,  815,  580], dtype=int16)"
      ]
     },
     "execution_count": 30,
     "metadata": {},
     "output_type": "execute_result"
    }
   ],
   "source": [
    "# Nhập code của bạn ở đây\n",
    "y_test = test[int(Provided_Portion*n_audio_samples):]\n",
    "y_test"
   ]
  },
  {
   "cell_type": "markdown",
   "metadata": {
    "id": "W0DXxAEhThBA"
   },
   "source": [
    "Lặp lại quy trình tương tự cho `X_train`, `y_train`. Sự khác biệt duy nhất là:\n",
    "\n",
    "1. Bạn sẽ nhận được dữ liệu âm thanh từ `train` thay vì từ `test`\n",
    "2. Bạn có nhớ shape của `train` mà bạn đã in ra trước đó không? Bạn muốn thực hiện việc cắt này nhưng đối với TẤT CẢ các mẫu (quan sát). Đối với mỗ quan sát, bạn muốn chia các thuộc tính âm thanh `Provided_Portion` * `n_audio_samples` đầu tiên thành `X_train`, và phần còn lại chuyển vào `y_train`. Có thể thực hiện tất cả những điều này bằng lập chỉ mục thông thường ở 2 dòng code:"
   ]
  },
  {
   "cell_type": "code",
   "execution_count": 33,
   "metadata": {
    "id": "8CgSV4-IThBC"
   },
   "outputs": [],
   "source": [
    "# Nhập code của bạn ở đây\n",
    "X_train = train[:, :int(Provided_Portion*n_audio_samples)]\n",
    "y_train = train[:, int(Provided_Portion*n_audio_samples):]"
   ]
  },
  {
   "cell_type": "markdown",
   "metadata": {
    "id": "gVZG3AQwThBN"
   },
   "source": [
    "SciKit-Learn sẽ 'tức giận' nếu bạn không cung cấp dữ liệu huấn luyện dưới dạng khung dữ liệu 2D có shape `[n_samples, n_features]`.\n",
    "\n",
    "Vì vậy, nếu bạn chỉ có một MẪU, chẳng hạn như trường hợp của chúng ta với `X_test` và `y_test` thì bằng cách gọi `.reshape(1, -1)`, bạn có thể biến `[n_features]` thành `[1, n_features] `để đáp ứng SciKit-Learn.\n",
    "\n",
    "Mặt khác, nếu bạn chỉ có một THUỘC TÍNH, bạn có thể gọi `.reshape (-1, 1)` trên dữ liệu của mình để biến `[n_samples]` thành `[n_samples, 1]`.\n",
    "\n",
    "Định hình lại X_test và y_test thành [1, n_features]:"
   ]
  },
  {
   "cell_type": "code",
   "execution_count": 34,
   "metadata": {
    "id": "ovi6Z4vAThBO"
   },
   "outputs": [],
   "source": [
    "# Nhập code của bạn ở đây\n",
    "X_test = X_test.reshape(1, -1)\n",
    "y_test = y_test.reshape(1, -1)"
   ]
  },
  {
   "cell_type": "markdown",
   "metadata": {
    "id": "pveoa3OSThBV"
   },
   "source": [
    "Điều chỉnh mô hình của bạn bằng cách sử dụng dữ liệu huấn luyện và nhãn:"
   ]
  },
  {
   "cell_type": "code",
   "execution_count": 35,
   "metadata": {
    "id": "aWrzESmWThBW"
   },
   "outputs": [
    {
     "data": {
      "text/plain": [
       "LinearRegression()"
      ]
     },
     "execution_count": 35,
     "metadata": {},
     "output_type": "execute_result"
    }
   ],
   "source": [
    "# Nhập code của bạn ở đây\n",
    "model.fit(X_train, y_train)"
   ]
  },
  {
   "cell_type": "markdown",
   "metadata": {
    "id": "beK3QB4Ha1SW"
   },
   "source": [
    "## 3. Đánh giá mô hình"
   ]
  },
  {
   "cell_type": "markdown",
   "metadata": {
    "id": "xkUDZHtkThBd"
   },
   "source": [
    "Sử dụng mô hình để dự đoán `label` của `X_test`. Lưu trữ dự đoán kết quả trong biến `y_test_prediction`:"
   ]
  },
  {
   "cell_type": "code",
   "execution_count": 36,
   "metadata": {
    "id": "ShxFfA0IThBe"
   },
   "outputs": [],
   "source": [
    "# Nhập code của bạn ở đây\n",
    "y_test_prediction = model.predict(X_test)"
   ]
  },
  {
   "cell_type": "markdown",
   "metadata": {
    "id": "9oSFOALZThBi"
   },
   "source": [
    "SciKit-Learn sẽ sử dụng float64 để tạo các dự đoán của bạn, vì vậy hãy đưa các giá trị đó trở lại int16, đó là những gì tệp .wav cần:"
   ]
  },
  {
   "cell_type": "code",
   "execution_count": 37,
   "metadata": {
    "id": "wbnClMVCThBj"
   },
   "outputs": [],
   "source": [
    "y_test_prediction = y_test_prediction.astype(dtype=np.int16)"
   ]
  },
  {
   "cell_type": "markdown",
   "metadata": {
    "id": "oYqV-K4IThBo"
   },
   "source": [
    "Chấm điểm dự đoán của bạn sẽ hoạt động tốt như thế nào bằng cách truyền dữ liệu và nhãn thử nghiệm `y_test`:"
   ]
  },
  {
   "cell_type": "code",
   "execution_count": 49,
   "metadata": {
    "id": "qF-R89wLThBp"
   },
   "outputs": [
    {
     "name": "stderr",
     "output_type": "stream",
     "text": [
      "/Users/chinguyen/miniforge3/envs/tensorflow/lib/python3.9/site-packages/sklearn/metrics/_regression.py:796: UndefinedMetricWarning: R^2 score is not well-defined with less than two samples.\n",
      "  warnings.warn(msg, UndefinedMetricWarning)\n"
     ]
    }
   ],
   "source": [
    "# Nhập code của bạn ở đây\n",
    "from sklearn.metrics import r2_score\n",
    "score = r2_score(y_test_prediction,y_test)"
   ]
  },
  {
   "cell_type": "code",
   "execution_count": 52,
   "metadata": {
    "id": "uAwVxcTOThBu"
   },
   "outputs": [
    {
     "name": "stdout",
     "output_type": "stream",
     "text": [
      "Extrapolation R^2 Score:  nan\n"
     ]
    }
   ],
   "source": [
    "print(\"Extrapolation R^2 Score: \", score)"
   ]
  },
  {
   "cell_type": "markdown",
   "metadata": {
    "id": "Qxlg7hWRThB1"
   },
   "source": [
    "Hãy lấy phần `Provided_Portion` đầu tiên của clip thử nghiệm, phần mà bạn đã đưa vào mô hình hồi quy tuyến tính. Sau đó, kết hợp điều đó với thứ mà mô hình dự đoán đã tạo cho bạn và sau đó lưu đoạn âm thanh đã hoàn thành:"
   ]
  },
  {
   "cell_type": "code",
   "execution_count": 40,
   "metadata": {
    "id": "co0UKuZ0ThB2"
   },
   "outputs": [],
   "source": [
    "completed_clip = np.hstack((X_test, y_test_prediction))\n",
    "wavfile.write('Extrapolated Clip.wav', sample_rate, completed_clip[0])"
   ]
  },
  {
   "cell_type": "code",
   "execution_count": null,
   "metadata": {},
   "outputs": [],
   "source": []
  }
 ],
 "metadata": {
  "anaconda-cloud": {},
  "colab": {
   "collapsed_sections": [],
   "name": "Lab_2_4_Sound_Magician.ipynb",
   "provenance": []
  },
  "kernelspec": {
   "display_name": "Python 3 (ipykernel)",
   "language": "python",
   "name": "python3"
  },
  "language_info": {
   "codemirror_mode": {
    "name": "ipython",
    "version": 3
   },
   "file_extension": ".py",
   "mimetype": "text/x-python",
   "name": "python",
   "nbconvert_exporter": "python",
   "pygments_lexer": "ipython3",
   "version": "3.9.7"
  },
  "toc": {
   "colors": {
    "hover_highlight": "#DAA520",
    "running_highlight": "#FF0000",
    "selected_highlight": "#FFD700"
   },
   "moveMenuLeft": true,
   "nav_menu": {
    "height": "58px",
    "width": "252px"
   },
   "navigate_menu": true,
   "number_sections": true,
   "sideBar": true,
   "threshold": 4,
   "toc_cell": false,
   "toc_section_display": "block",
   "toc_window_display": false,
   "widenNotebook": false
  }
 },
 "nbformat": 4,
 "nbformat_minor": 4
}
