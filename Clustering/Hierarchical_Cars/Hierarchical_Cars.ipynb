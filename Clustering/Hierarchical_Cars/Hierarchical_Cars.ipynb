{
 "cells": [
  {
   "cell_type": "markdown",
   "metadata": {
    "id": "6bdfCN81lVWF"
   },
   "source": [
    "# Phân cụm phân cấp (Hierarchical Clustering)\n",
    "\n",
    "Thời lượng ước tính: **45** phút\n",
    "\n",
    "## Mục tiêu\n",
    "\n",
    "Sau khi hoàn thành lab này bạn sẽ có thể:\n",
    "\n",
    "- Sử dụng scikit-learning để phân cụm phân cấp\n",
    "- Tạo các dendrogram để trực quan hóa phân cụm\n"
   ]
  },
  {
   "cell_type": "markdown",
   "metadata": {
    "id": "cVoZo-wHlVWa"
   },
   "source": [
    "<h1>Mục lục</h1>\n",
    "\n",
    "<div class=\"alert alert-block alert-info\" style=\"margin-top: 20px\">\n",
    "    <ol>\n",
    "        <li><a href=\"#hierarchical_agglomerative\">Phân cụm Phân cấp - Agglomerative</a></li>\n",
    "            <ol>\n",
    "                <li><a href=\"#generating_data\">Khởi tạo Dữ liệu ngẫu nhiên</a></li>\n",
    "                <li><a href=\"#agglomerative_clustering\">Agglomerative Clustering (Phân cụm kết tụ)</a></li>\n",
    "                <li><a href=\"#dendrogram\">Biểu đồ Dendrogram liên quan đến Phân cụm kết tụ</a></li>\n",
    "            </ol>            \n",
    "        <li><a href=\"#clustering_vehicle_dataset\">Phân cụm trên Tập dữ liệu Vehicle</a></li>\n",
    "            <ol>\n",
    "                <li><a href=\"#data_cleaning\">Làm sạch dữ liệu</a></li>\n",
    "                <li><a href=\"#clustering_using_scipy\">Phân cụm sử dụng Scipy</a></li>\n",
    "                <li><a href=\"#clustering_using_skl\">Phân cụm sử dụng scikit-learn</a></li>\n",
    "            </ol>\n",
    "    </ol>\n",
    "</div>\n",
    "<br>\n",
    "<hr>\n"
   ]
  },
  {
   "cell_type": "markdown",
   "metadata": {
    "id": "kXCHgf4klVWb"
   },
   "source": [
    "<h1 id=\"hierarchical_agglomerative\">Phân cụm Phân cấp - Agglomerative</h1>\n",
    "\n",
    "Chúng ta sẽ xem xét một kỹ thuật phân cụm, đó là <b>Agglomerative Hierarchical Clustering (Phân cụm kết tụ)</b>. Hãy nhớ rằng agglomerative  là cách tiếp cận từ dưới lên. <br> <br>\n",
    "Trong lab này, chúng ta sẽ xem xét phân cụm Agglomerative, phổ biến hơn phân cụm Divisive. <br> <br>\n",
    "Chúng ta cũng sẽ sử dụng Complete Linkage làm Linkage Criteria (Tiêu chí Liên kết). <br>\n",
    "<b> <i> LƯU Ý: Bạn cũng có thể thử sử dụng Average Linkage bất kỳ lúc nào có Complete Linkage để thấy sự khác biệt! </i> </b>\n"
   ]
  },
  {
   "cell_type": "code",
   "execution_count": 1,
   "metadata": {
    "id": "US_owaQQlVWc"
   },
   "outputs": [],
   "source": [
    "import numpy as np \n",
    "import pandas as pd\n",
    "from scipy import ndimage \n",
    "from scipy.cluster import hierarchy \n",
    "from scipy.spatial import distance_matrix \n",
    "from matplotlib import pyplot as plt \n",
    "from sklearn import manifold, datasets \n",
    "from sklearn.cluster import AgglomerativeClustering \n",
    "from sklearn.datasets import make_blobs \n",
    "%matplotlib inline"
   ]
  },
  {
   "cell_type": "markdown",
   "metadata": {
    "id": "UwAcMqILlVWd"
   },
   "source": [
    "<hr>\n",
    "<h3 id=\"generating_data\">Tạo dữ liệu ngẫu nhiên</h3>\n",
    "Chúng ta sẽ tạo một tập hợp dữ liệu bằng cách sử dụng lớp <b> make_blobs </b>. <br> <br>\n",
    "Nhập các tham số sau vào make_blobs:\n",
    "<ul>\n",
    "    <li> <b>n_samples</b>: Tổng số điểm được chia đều cho các cụm. </li>\n",
    "    <ul> <li> Chọn một số từ 10-1500 </li> </ul>\n",
    "    <li> <b>centers</b>: Số lượng tâm cần tạo hoặc vị trí tâm cố định. </li>\n",
    "    <ul> <li> Chọn mảng tọa độ x, y để tạo các tâm. Có 1-10 trung tâm (ví dụ: centers=[[1,1], [2,5]]) </li> </ul>\n",
    "    <li> <b>cluster_std</b>: Độ lệch chuẩn của các cụm. Độ lệch càng lớn thì các cụm càng xa nhau </li>\n",
    "    <ul> <li> Chọn một số từ 0.5-1.5 </li> </ul>\n",
    "</ul> <br>\n",
    "Lưu kết quả vào <b>X1</b> và <b>y1</b>.\n"
   ]
  },
  {
   "cell_type": "code",
   "execution_count": 2,
   "metadata": {
    "id": "uSiMvx9ClVWd"
   },
   "outputs": [],
   "source": [
    "X1, y1 = make_blobs(n_samples=50, centers=[[4,4], [-2, -1], [1, 1], [10,4]], cluster_std=0.9)"
   ]
  },
  {
   "cell_type": "markdown",
   "metadata": {
    "id": "LT8HhrRFlVWe"
   },
   "source": [
    "Vẽ biểu đồ phân tán của dữ liệu được tạo ngẫu nhiên\n"
   ]
  },
  {
   "cell_type": "code",
   "execution_count": 3,
   "metadata": {
    "id": "mAyAbGHSlVWe"
   },
   "outputs": [
    {
     "data": {
      "text/plain": [
       "<matplotlib.collections.PathCollection at 0x14c674d60>"
      ]
     },
     "execution_count": 3,
     "metadata": {},
     "output_type": "execute_result"
    },
    {
     "data": {
      "image/png": "[encoded data removed]",
      "text/plain": [
       "<Figure size 432x288 with 1 Axes>"
      ]
     },
     "metadata": {
      "needs_background": "light"
     },
     "output_type": "display_data"
    }
   ],
   "source": [
    "plt.scatter(X1[:, 0], X1[:, 1], marker='o') "
   ]
  },
  {
   "cell_type": "markdown",
   "metadata": {
    "id": "UNwYFGf6lVWf"
   },
   "source": [
    "<hr>\n",
    "<h3 id=\"agglomerative_clustering\">Phân cụm kết tụ</h3>\n",
    "\n",
    "Chúng ta sẽ bắt đầu bằng cách phân cụm các điểm dữ liệu ngẫu nhiên vừa tạo.\n"
   ]
  },
  {
   "cell_type": "markdown",
   "metadata": {
    "id": "6GBs6aEHlVWf"
   },
   "source": [
    "Lớp <b>Phân cụm Agglomerative </b> sẽ yêu cầu 2 input:\n",
    "\n",
    "<ul>\n",
    "    <li> <b>n_clusters</b>: Số lượng các cụm để hình thành cũng như số lượng tâm cần tạo ra. </li>\n",
    "    <ul> <li> Giá trị sẽ là: 4 </li> </ul>\n",
    "    <li> <b>linkage</b>: Sử dụng tiêu chí liên kết nào. Tiêu chí liên kết xác định khoảng cách sử dụng giữa các tập quan sát. Thuật toán sẽ hợp nhất các cặp cụm giảm thiểu tiêu chí này. </li>\n",
    "    <ul> \n",
    "        <li> Giá trị sẽ là: 'complete' </li> \n",
    "        <li> <b>Lưu ý</b>: Bạn nên thử mọi thứ với mức 'average' (trung bình) </li>\n",
    "    </ul>\n",
    "</ul> <br>\n",
    "Lưu kết quả vào biến <b> agglom </b>\n"
   ]
  },
  {
   "cell_type": "code",
   "execution_count": 4,
   "metadata": {
    "id": "GErQtJPblVWf"
   },
   "outputs": [],
   "source": [
    "agglom = AgglomerativeClustering(n_clusters = 4, linkage = 'average')"
   ]
  },
  {
   "cell_type": "markdown",
   "metadata": {
    "id": "d-vifxX4lVWg"
   },
   "source": [
    "Điều chỉnh mô hình với  <b> X2 </b> và <b> y2 </b> từ dữ liệu đã tạo ở trên.\n"
   ]
  },
  {
   "cell_type": "code",
   "execution_count": 5,
   "metadata": {
    "id": "1kMzlqKylVWg",
    "scrolled": true
   },
   "outputs": [
    {
     "data": {
      "text/plain": [
       "AgglomerativeClustering(linkage='average', n_clusters=4)"
      ]
     },
     "execution_count": 5,
     "metadata": {},
     "output_type": "execute_result"
    }
   ],
   "source": [
    "agglom.fit(X1,y1)"
   ]
  },
  {
   "cell_type": "markdown",
   "metadata": {
    "id": "lOZXEqI-lVWh"
   },
   "source": [
    "Chạy đoạn code sau để hiển thị phân cụm! <br>\n",
    "Hãy nhớ đọc code và chú thích để hiểu thêm về cách tạo biểu đồ.\n"
   ]
  },
  {
   "cell_type": "code",
   "execution_count": 6,
   "metadata": {
    "id": "YZQnVCkrlVWi"
   },
   "outputs": [
    {
     "data": {
      "image/png": "[encoded data removed]",
      "text/plain": [
       "<Figure size 432x288 with 1 Axes>"
      ]
     },
     "metadata": {},
     "output_type": "display_data"
    }
   ],
   "source": [
    "# Create a figure of size 6 inches by 4 inches.\n",
    "plt.figure(figsize=(6,4))\n",
    "\n",
    "# These two lines of code are used to scale the data points down,\n",
    "# Or else the data points will be scattered very far apart.\n",
    "\n",
    "# Create a minimum and maximum range of X1.\n",
    "x_min, x_max = np.min(X1, axis=0), np.max(X1, axis=0)\n",
    "\n",
    "# Get the average distance for X1.\n",
    "X1 = (X1 - x_min) / (x_max - x_min)\n",
    "\n",
    "# This loop displays all of the datapoints.\n",
    "for i in range(X1.shape[0]):\n",
    "    # Replace the data points with their respective cluster value \n",
    "    # (ex. 0) and is color coded with a colormap (plt.cm.spectral)\n",
    "    plt.text(X1[i, 0], X1[i, 1], str(y1[i]),\n",
    "             color=plt.cm.nipy_spectral(agglom.labels_[i] / 10.),\n",
    "             fontdict={'weight': 'bold', 'size': 9})\n",
    "    \n",
    "# Remove the x ticks, y ticks, x and y axis\n",
    "plt.xticks([])\n",
    "plt.yticks([])\n",
    "#plt.axis('off')\n",
    "\n",
    "\n",
    "\n",
    "# Display the plot of the original data before clustering\n",
    "plt.scatter(X1[:, 0], X1[:, 1], marker='.')\n",
    "# Display the plot\n",
    "plt.show()"
   ]
  },
  {
   "cell_type": "markdown",
   "metadata": {
    "id": "WUhBvRUBlVWk"
   },
   "source": [
    "<h3 id=\"dendrogram\">Dendrogram liên quan đến Phân cụm kết tụ</h3>\n",
    "\n",
    "Hãy nhớ rằng một <b>ma trận khoảng cách</b> chứa <b>khoảng cách từ mỗi điểm đến mọi điểm khác của tập dữ liệu</b>.\n",
    "\n",
    "Sử dụng hàm <b> distance_matrix, </b> yêu cầu <b> 2 input</b>. Sử dụng Feature Matrix (Ma trận đặc trưng), <b> X1 </b> đóng vai trò là input và lưu ma trận khoảng cách vào biến <b> dist_matrix </b> <br> <br>\n",
    "Hãy nhớ rằng các giá trị khoảng cách là đối xứng, với đường chéo là 0. Đây là một cách để đảm bảo ma trận của bạn là chính xác. <br> (in ra dist_matrix để đảm bảo nó chính xác)"
   ]
  },
  {
   "cell_type": "code",
   "execution_count": 7,
   "metadata": {
    "id": "vBL0i-wklVWl",
    "scrolled": true
   },
   "outputs": [
    {
     "name": "stdout",
     "output_type": "stream",
     "text": [
      "[[0.         0.19184244 0.41665795 ... 0.17140831 0.67577423 0.09752962]\n",
      " [0.19184244 0.         0.58064673 ... 0.32422248 0.5956753  0.21337444]\n",
      " [0.41665795 0.58064673 0.         ... 0.25648155 1.07658202 0.48372818]\n",
      " ...\n",
      " [0.17140831 0.32422248 0.25648155 ... 0.         0.84685338 0.25738831]\n",
      " [0.67577423 0.5956753  1.07658202 ... 0.84685338 0.         0.59442168]\n",
      " [0.09752962 0.21337444 0.48372818 ... 0.25738831 0.59442168 0.        ]]\n"
     ]
    }
   ],
   "source": [
    "dist_matrix = distance_matrix(X1,X1) \n",
    "print(dist_matrix)"
   ]
  },
  {
   "cell_type": "markdown",
   "metadata": {
    "id": "XfHe5-rilVWm"
   },
   "source": [
    "Sử dụng lớp <b> linkage</b> từ hệ thống phân cấp, truyền vào các tham số:\n",
    "\n",
    "<ul>\n",
    "    <li> Ma trận khoảng cách</li>\n",
    "    <li> 'complete' cho complete linkage </li>\n",
    "</ul> <br>\n",
    "Lưu kết quả vào biến <b> Z </b>\n"
   ]
  },
  {
   "cell_type": "code",
   "execution_count": 8,
   "metadata": {
    "id": "Y9GAeTfolVWn"
   },
   "outputs": [
    {
     "name": "stderr",
     "output_type": "stream",
     "text": [
      "/var/folders/jl/87v8p9cx1ddb40vd90ddy2lw0000gn/T/ipykernel_32256/3518085107.py:1: ClusterWarning: scipy.cluster: The symmetric non-negative hollow observation matrix looks suspiciously like an uncondensed distance matrix\n",
      "  Z = hierarchy.linkage(dist_matrix, 'complete')\n"
     ]
    }
   ],
   "source": [
    "Z = hierarchy.linkage(dist_matrix, 'complete')"
   ]
  },
  {
   "cell_type": "markdown",
   "metadata": {
    "id": "sxX87ycjlVWn"
   },
   "source": [
    "Phân cụm phân cấp thường được biểu thị dưới dạng biểu đồ dendrogram như được hiển thị trong cell sau. Mỗi hợp nhất được thể hiện bằng một đường ngang. Tọa độ y của đường ngang là điểm tương tự của hai cụm đã được hợp nhất, trong đó các thành phố được xem như là các cụm đơn.\n",
    "Bằng cách di chuyển lên từ lớp dưới cùng lên nút trên cùng, biểu đồ dendrogram cho phép chúng ta xây dựng lại lịch sử của các hợp nhất dẫn đến phân cụm được mô tả.\n",
    "\n",
    "Tiếp theo, chúng ta sẽ lưu dendrogram vào biến <b>dendro</b>. Khi làm điều này, biểu đồ dendrogram cũng sẽ được hiển thị.\n",
    "Sử dụng lớp <b> dendrogram </b> từ hệ thống phân cấp, truyền vào tham số:\n",
    "\n",
    "<ul> <li> Z </li> </ul>\n"
   ]
  },
  {
   "cell_type": "code",
   "execution_count": 9,
   "metadata": {
    "id": "FSVy4NCQlVWn"
   },
   "outputs": [
    {
     "data": {
      "image/png": "[encoded data removed]",
      "text/plain": [
       "<Figure size 432x288 with 1 Axes>"
      ]
     },
     "metadata": {
      "needs_background": "light"
     },
     "output_type": "display_data"
    }
   ],
   "source": [
    "dendro = hierarchy.dendrogram(Z)"
   ]
  },
  {
   "cell_type": "markdown",
   "metadata": {
    "id": "qUwC8IeblVWo"
   },
   "source": [
    "## Thực hành\n",
    "\n",
    "Chúng ta đã sử dụng **complete** linkage, hãy thay đổi nó thành **average** linkage để xem biểu đồ thay đổi như thế nào.\n"
   ]
  },
  {
   "cell_type": "code",
   "execution_count": 11,
   "metadata": {
    "id": "_rLqmNUClVWo"
   },
   "outputs": [
    {
     "name": "stderr",
     "output_type": "stream",
     "text": [
      "/var/folders/jl/87v8p9cx1ddb40vd90ddy2lw0000gn/T/ipykernel_32256/2831339836.py:2: ClusterWarning: scipy.cluster: The symmetric non-negative hollow observation matrix looks suspiciously like an uncondensed distance matrix\n",
      "  Z = hierarchy.linkage(dist_matrix,'average')\n"
     ]
    },
    {
     "data": {
      "image/png": "[encoded data removed]",
      "text/plain": [
       "<Figure size 432x288 with 1 Axes>"
      ]
     },
     "metadata": {
      "needs_background": "light"
     },
     "output_type": "display_data"
    }
   ],
   "source": [
    "# Nhập code của bạn ở đây\n",
    "Z = hierarchy.linkage(dist_matrix,'average')\n",
    "dendro = hierarchy.dendrogram(Z)"
   ]
  },
  {
   "cell_type": "markdown",
   "metadata": {
    "id": "l1LiIZgllVWo"
   },
   "source": [
    "<details><summary>Click vào dây để xem lời giải</summary>\n",
    "\n",
    "```python\n",
    "Z = hierarchy.linkage(dist_matrix, 'average')\n",
    "dendro = hierarchy.dendrogram(Z)\n",
    "\n",
    "```\n",
    "\n",
    "</details>\n"
   ]
  },
  {
   "cell_type": "markdown",
   "metadata": {
    "id": "K62WsY2VlVWo"
   },
   "source": [
    "<hr>\n",
    "<h1 id=\"clustering_vehicle_dataset\">Phân cụm trên tập dữ liệu Vehicle </h1>\n",
    "\n",
    "Hãy tưởng tượng rằng một nhà sản xuất ô tô đã phát triển các nguyên mẫu cho một loại xe mới. Trước khi giới thiệu mẫu xe mới vào phân khúc, nhà sản xuất muốn xác định các loại xe hiện có trên thị trường giống với nguyên mẫu nhất - nghĩa là, có thể phân nhóm xe như thế nào, nhóm nào giống nhất với mẫu xe và để biết mẫu xe nào họ sẽ cạnh tranh cùng.\n",
    "\n",
    "Mục tiêu của chúng ta ở đây là sử dụng phương pháp phân cụm để tìm ra các cụm phương tiện đặc trưng nhất. Nó sẽ tóm tắt các loại xe hiện có và giúp các nhà sản xuất đưa ra quyết định về việc cung cấp các mẫu xe mới.\n"
   ]
  },
  {
   "cell_type": "markdown",
   "metadata": {
    "id": "mRm_AerTlVWp"
   },
   "source": [
    "## Đọc dữ liệu\n",
    "\n",
    "Hãy đọc tập dữ liệu để xem nhà sản xuất đã thu thập những đặc trưng nào về các mẫu hiện có.\n"
   ]
  },
  {
   "cell_type": "code",
   "execution_count": null,
   "metadata": {
    "id": "XOqSW4Y9lVWp"
   },
   "outputs": [],
   "source": [
    "filename = 'cars_clus.csv'\n",
    "\n",
    "#Read csv\n",
    "pdf = pd.read_csv(filename)\n",
    "print (\"Shape of dataset: \", pdf.shape)\n",
    "\n",
    "pdf.head(5)"
   ]
  },
  {
   "cell_type": "markdown",
   "metadata": {
    "id": "fS5JAcPIlVWq"
   },
   "source": [
    "Tập đặc trưng gồm giá theo đơn vị nghìn (price), kích thước động cơ (engine_s), mã lực (horsepow), chiều dài cơ sở (wheelbas), chiều rộng (width), chiều dài (length), kích thước giới hạn (curb_wgt), dung tích nhiên liệu (fuel_cap) và mức tiêu hao nhiên liệu (mpg).\n"
   ]
  },
  {
   "cell_type": "markdown",
   "metadata": {
    "id": "RDeg0ojAlVWq"
   },
   "source": [
    "<h2 id=\"data_cleaning\">Làm sạch dữ liệu</h2>\n",
    "\n",
    "Hãy xóa tập dữ liệu bằng cách loại bỏ các hàng có giá trị null:\n"
   ]
  },
  {
   "cell_type": "code",
   "execution_count": null,
   "metadata": {
    "id": "fUoMONAYlVWq"
   },
   "outputs": [],
   "source": [
    "print (\"Shape of dataset before cleaning: \", pdf.size)\n",
    "pdf[[ 'sales', 'resale', 'type', 'price', 'engine_s',\n",
    "       'horsepow', 'wheelbas', 'width', 'length', 'curb_wgt', 'fuel_cap',\n",
    "       'mpg', 'lnsales']] = pdf[['sales', 'resale', 'type', 'price', 'engine_s',\n",
    "       'horsepow', 'wheelbas', 'width', 'length', 'curb_wgt', 'fuel_cap',\n",
    "       'mpg', 'lnsales']].apply(pd.to_numeric, errors='coerce')\n",
    "pdf = pdf.dropna()\n",
    "pdf = pdf.reset_index(drop=True)\n",
    "print (\"Shape of dataset after cleaning: \", pdf.size)\n",
    "pdf.head(5)"
   ]
  },
  {
   "cell_type": "markdown",
   "metadata": {
    "id": "KwmgpoiElVWr"
   },
   "source": [
    "### Lựa chọn đặc trưng\n",
    "\n",
    "Hãy chọn tập đặc trưng:\n"
   ]
  },
  {
   "cell_type": "code",
   "execution_count": null,
   "metadata": {
    "id": "Y5tq-MumlVWr"
   },
   "outputs": [],
   "source": [
    "featureset = pdf[['engine_s',  'horsepow', 'wheelbas', 'width', 'length', 'curb_wgt', 'fuel_cap', 'mpg']]"
   ]
  },
  {
   "cell_type": "markdown",
   "metadata": {
    "id": "ReJQvhT7lVWr"
   },
   "source": [
    "### Chuẩn hóa (Normalization)\n",
    "\n",
    "Bây giờ chúng ta có thể chuẩn hóa tập đặc trưng. **MinMaxScaler** chuyển đổi các đặc trưng bằng cách chia tỷ lệ từng đặc trưng cho một phạm vi nhất định. Theo mặc định là (0, 1), tức là bộ ước lượng này chia tỷ lệ và dịch chuyển các giá trị của từng đặc trưng riêng lẻ sao cho nó nằm giữa 0 và 1.\n"
   ]
  },
  {
   "cell_type": "code",
   "execution_count": null,
   "metadata": {
    "id": "4GnzAhEzlVWr"
   },
   "outputs": [],
   "source": [
    "from sklearn.preprocessing import MinMaxScaler\n",
    "x = featureset.values #returns a numpy array\n",
    "min_max_scaler = MinMaxScaler()\n",
    "feature_mtx = min_max_scaler.fit_transform(x)\n",
    "feature_mtx [0:5]"
   ]
  },
  {
   "cell_type": "markdown",
   "metadata": {
    "id": "rm96MaOBlVWr"
   },
   "source": [
    "<h2 id=\"clustering_using_scipy\">Phân cụm sử dụng Scipy</h2>\n",
    "\n",
    "Trong phần này, chúng ta sử dụng gói Scipy để phân cụm tập dữ liệu.\n",
    "\n",
    "Trước tiên, hãy tính toán ma trận khoảng cách.\n"
   ]
  },
  {
   "cell_type": "code",
   "execution_count": null,
   "metadata": {
    "id": "Ep2MT3N4lVWs"
   },
   "outputs": [],
   "source": [
    "import scipy\n",
    "leng = feature_mtx.shape[0]\n",
    "D = scipy.zeros([leng,leng])\n",
    "for i in range(leng):\n",
    "    for j in range(leng):\n",
    "        D[i,j] = scipy.spatial.distance.euclidean(feature_mtx[i], feature_mtx[j])\n",
    "D"
   ]
  },
  {
   "cell_type": "markdown",
   "metadata": {
    "id": "u4OFdRGWlVWs"
   },
   "source": [
    "Trong phân cụm kết tụ, tại mỗi lần lặp, thuật toán phải cập nhật ma trận khoảng cách để phản ánh khoảng cách của cụm mới hình thành với các cụm còn lại trong forest.\n",
    "Các phương thức sau được hỗ trợ trong Scipy để tính toán khoảng cách giữa cụm mới được hình thành và từng cụm:\n",
    "\n",
    "```\n",
    "- single \n",
    "- complete \n",
    "- average \n",
    "- weighted \n",
    "- centroid \n",
    "```\n",
    "\n",
    "\n",
    "Trường hợp của chúng ta sử dụng **complete**, nhưng hãy đổi để xem kết quả thay đổi ra sao.\n",
    "\n"
   ]
  },
  {
   "cell_type": "code",
   "execution_count": null,
   "metadata": {
    "id": "j3RaOI-OlVWs"
   },
   "outputs": [],
   "source": [
    "import pylab\n",
    "import scipy.cluster.hierarchy\n",
    "Z = hierarchy.linkage(D, 'complete')"
   ]
  },
  {
   "cell_type": "markdown",
   "metadata": {
    "id": "MvuwQ570lVWt"
   },
   "source": [
    "Về cơ bản, phân cụm phân cấp không yêu cầu số lượng cụm được chỉ định trước. Tuy nhiên, trong một số trường hợp, chúng ta muốn có một phân cụm gồm các cụm rời rạc giống như trong phân cụm phẳng.\n",
    "Vậy, bạn có thể sử dụng một đường cắt:\n"
   ]
  },
  {
   "cell_type": "code",
   "execution_count": null,
   "metadata": {
    "id": "lj56Li_vlVWt"
   },
   "outputs": [],
   "source": [
    "from scipy.cluster.hierarchy import fcluster\n",
    "max_d = 3\n",
    "clusters = fcluster(Z, max_d, criterion='distance')\n",
    "clusters"
   ]
  },
  {
   "cell_type": "markdown",
   "metadata": {
    "id": "p-rwHRDSlVWt"
   },
   "source": [
    "Ngoài ra, bạn có thể xác định trực tiếp số lượng cụm:\n"
   ]
  },
  {
   "cell_type": "code",
   "execution_count": null,
   "metadata": {
    "id": "1x7xoqYglVWt"
   },
   "outputs": [],
   "source": [
    "from scipy.cluster.hierarchy import fcluster\n",
    "k = 5\n",
    "clusters = fcluster(Z, k, criterion='maxclust')\n",
    "clusters\n"
   ]
  },
  {
   "cell_type": "markdown",
   "metadata": {
    "id": "Ok_j8r7hlVWt"
   },
   "source": [
    "Bây giờ, hãy vẽ biểu đồ dendrogram:\n"
   ]
  },
  {
   "cell_type": "code",
   "execution_count": null,
   "metadata": {
    "id": "EZIwlYbnlVWu"
   },
   "outputs": [],
   "source": [
    "fig = pylab.figure(figsize=(18,50))\n",
    "def llf(id):\n",
    "    return '[%s %s %s]' % (pdf['manufact'][id], pdf['model'][id], int(float(pdf['type'][id])) )\n",
    "    \n",
    "dendro = hierarchy.dendrogram(Z,  leaf_label_func=llf, leaf_rotation=0, leaf_font_size =12, orientation = 'right')"
   ]
  },
  {
   "cell_type": "markdown",
   "metadata": {
    "id": "yeue9--QlVWu"
   },
   "source": [
    "<h2 id=\"clustering_using_skl\">Phân cụm sử dụng scikit-learn</h2>\n",
    "\n",
    "Hãy làm lại lần nữa, nhưng lần này sử dụng gói scikit-learn:\n"
   ]
  },
  {
   "cell_type": "code",
   "execution_count": null,
   "metadata": {
    "id": "iIh3keMBlVWv"
   },
   "outputs": [],
   "source": [
    "from sklearn.metrics.pairwise import euclidean_distances\n",
    "dist_matrix = euclidean_distances(feature_mtx,feature_mtx) \n",
    "print(dist_matrix)"
   ]
  },
  {
   "cell_type": "code",
   "execution_count": null,
   "metadata": {
    "id": "ixWlbyTNlVWv"
   },
   "outputs": [],
   "source": [
    "Z_using_dist_matrix = hierarchy.linkage(dist_matrix, 'complete')"
   ]
  },
  {
   "cell_type": "code",
   "execution_count": null,
   "metadata": {
    "id": "D1cMrFyMlVWv"
   },
   "outputs": [],
   "source": [
    "fig = pylab.figure(figsize=(18,50))\n",
    "def llf(id):\n",
    "    return '[%s %s %s]' % (pdf['manufact'][id], pdf['model'][id], int(float(pdf['type'][id])) )\n",
    "    \n",
    "dendro = hierarchy.dendrogram(Z_using_dist_matrix,  leaf_label_func=llf, leaf_rotation=0, leaf_font_size =12, orientation = 'right')"
   ]
  },
  {
   "cell_type": "markdown",
   "metadata": {
    "id": "qVazONbLlVWv"
   },
   "source": [
    "Bây giờ, chúng ta có thể sử dụng hàm 'AgglomerativeClustering' từ thư viện scikit-learning để phân cụm tập dữ liệu. AgglomerativeClustering thực hiện phân cụm phân cấp bằng cách sử dụng phương pháp từ dưới lên. Tiêu chí liên kết xác định số liệu được sử dụng cho chiến lược hợp nhất:\n",
    "\n",
    "- Ward giảm thiểu tổng bình phương của sự khác biệt trong tất cả các cụm. Đây là một cách tiếp cận giảm thiểu phương sai và nó tương tự như hàm mục tiêu k-mean nhưng được giải quyết bằng cách tiếp cận phân cấp tổng hợp.\n",
    "- Maximum hay complete linkage giảm thiểu khoảng cách tối đa giữa các quan sát của các cặp cụm.\n",
    "-  Average linkage giảm thiểu trung bình của khoảng cách giữa tất cả các quan sát của các cặp cụm."
   ]
  },
  {
   "cell_type": "code",
   "execution_count": null,
   "metadata": {
    "id": "R3HVjlnklVWw"
   },
   "outputs": [],
   "source": [
    "agglom = AgglomerativeClustering(n_clusters = 6, linkage = 'complete')\n",
    "agglom.fit(dist_matrix)\n",
    "\n",
    "agglom.labels_"
   ]
  },
  {
   "cell_type": "markdown",
   "metadata": {
    "id": "tBKCN4NxlVWw"
   },
   "source": [
    "Chúng ta có thể thêm một trường mới vào khung dữ liệu để hiển thị cụm của mỗi hàng:\n"
   ]
  },
  {
   "cell_type": "code",
   "execution_count": null,
   "metadata": {
    "id": "cGQDGnSIlVWx"
   },
   "outputs": [],
   "source": [
    "pdf['cluster_'] = agglom.labels_\n",
    "pdf.head()"
   ]
  },
  {
   "cell_type": "code",
   "execution_count": null,
   "metadata": {
    "id": "7tSCa6nVlVWx"
   },
   "outputs": [],
   "source": [
    "import matplotlib.cm as cm\n",
    "n_clusters = max(agglom.labels_)+1\n",
    "colors = cm.rainbow(np.linspace(0, 1, n_clusters))\n",
    "cluster_labels = list(range(0, n_clusters))\n",
    "\n",
    "# Create a figure of size 6 inches by 4 inches.\n",
    "plt.figure(figsize=(16,14))\n",
    "\n",
    "for color, label in zip(colors, cluster_labels):\n",
    "    subset = pdf[pdf.cluster_ == label]\n",
    "    for i in subset.index:\n",
    "            plt.text(subset.horsepow[i], subset.mpg[i],str(subset['model'][i]), rotation=25) \n",
    "    plt.scatter(subset.horsepow, subset.mpg, s= subset.price*10, c=color, label='cluster'+str(label),alpha=0.5)\n",
    "#    plt.scatter(subset.horsepow, subset.mpg)\n",
    "plt.legend()\n",
    "plt.title('Clusters')\n",
    "plt.xlabel('horsepow')\n",
    "plt.ylabel('mpg')"
   ]
  },
  {
   "cell_type": "markdown",
   "metadata": {
    "id": "mCJdBJn4lVWx"
   },
   "source": [
    "Như bạn có thể thấy, chúng ta đang thấy sự phân bố của từng cụm bằng biểu đồ phân tán, nhưng không rõ đâu là tâm của mỗi cụm. Hơn nữa, có 2 loại phương tiện trong tập dữ liệu: \"truck\" (giá trị 1 trong cột type) và \"car\" (giá trị 1 trong cột type). Vì vậy, chúng ta sử dụng chúng để phân biệt các lớp và tóm tắt cụm. Đầu tiên, hãy đếm số trường hợp trong mỗi nhóm:\n"
   ]
  },
  {
   "cell_type": "code",
   "execution_count": null,
   "metadata": {
    "id": "VUKOLorFlVWy"
   },
   "outputs": [],
   "source": [
    "pdf.groupby(['cluster_','type'])['cluster_'].count()"
   ]
  },
  {
   "cell_type": "markdown",
   "metadata": {
    "id": "BPGNnlNklVWy"
   },
   "source": [
    "Bây giờ chúng ta có thể xem xét các đặc điểm của từng cụm:\n"
   ]
  },
  {
   "cell_type": "code",
   "execution_count": null,
   "metadata": {
    "id": "zIPgMMU6lVWy"
   },
   "outputs": [],
   "source": [
    "agg_cars = pdf.groupby(['cluster_','type'])['horsepow','engine_s','mpg','price'].mean()\n",
    "agg_cars"
   ]
  },
  {
   "cell_type": "markdown",
   "metadata": {
    "id": "xoFAX8N_lVWy"
   },
   "source": [
    "Rõ ràng là chúng ta có 3 cụm chính với phần lớn các phương tiện trong đó.\n",
    "\n",
    "**Car (Ô tô)**:\n",
    "\n",
    "- Cụm 1: với mức tiêu hao nhiên liệu khá cao và mã lực thấp.\n",
    "- Cụm 2: có mức tiêu hao nhiên liệu và mã lực tốt, nhưng giá cao hơn mức trung bình.\n",
    "- Cụm 3: có mức tiêu hao nhiên liệu thấp, mã lực cao, giá cao nhất.\n",
    "\n",
    "**Truck (Xe tải)**:\n",
    "\n",
    "- Cụm 1: có mức tiêu hao nhiên liệu gần như cao nhất trong các loại xe tải, thấp nhất về mã lực và giá cả.\n",
    "- Cụm 2: có mức tiêu hao nhiên liệu gần như thấp và mã lực trung bình, nhưng giá cao hơn mức trung bình.\n",
    "- Cụm 3: có mức tiêu hao nhiên liệu và mã lực tốt, giá rẻ.\n",
    "\n",
    "Xin lưu ý rằng chúng ta không sử dụng  **type** và **price** của ô tô trong quá trình phân cụm, nhưng phân cụm phân cấp có thể tạo ra các cụm và phân biệt chúng với độ chính xác khá cao.\n"
   ]
  },
  {
   "cell_type": "code",
   "execution_count": null,
   "metadata": {
    "id": "2mtsJ9wdlVWz"
   },
   "outputs": [],
   "source": [
    "plt.figure(figsize=(16,10))\n",
    "for color, label in zip(colors, cluster_labels):\n",
    "    subset = agg_cars.loc[(label,),]\n",
    "    for i in subset.index:\n",
    "        plt.text(subset.loc[i][0]+5, subset.loc[i][2], 'type='+str(int(i)) + ', price='+str(int(subset.loc[i][3]))+'k')\n",
    "    plt.scatter(subset.horsepow, subset.mpg, s=subset.price*20, c=color, label='cluster'+str(label))\n",
    "plt.legend()\n",
    "plt.title('Clusters')\n",
    "plt.xlabel('horsepow')\n",
    "plt.ylabel('mpg')\n"
   ]
  },
  {
   "cell_type": "markdown",
   "metadata": {
    "id": "jm7j9P9SlVW0"
   },
   "source": [
    "### Cảm ơn bạn đã hoàn thành lab này!\n",
    "\n",
    "Nguồn bài Lab: **IBM**"
   ]
  }
 ],
 "metadata": {
  "colab": {
   "collapsed_sections": [],
   "name": "Lab_13_Hierarchical_Cars.ipynb",
   "provenance": []
  },
  "kernelspec": {
   "display_name": "Python 3 (ipykernel)",
   "language": "python",
   "name": "python3"
  },
  "language_info": {
   "codemirror_mode": {
    "name": "ipython",
    "version": 3
   },
   "file_extension": ".py",
   "mimetype": "text/x-python",
   "name": "python",
   "nbconvert_exporter": "python",
   "pygments_lexer": "ipython3",
   "version": "3.9.7"
  }
 },
 "nbformat": 4,
 "nbformat_minor": 4
}
