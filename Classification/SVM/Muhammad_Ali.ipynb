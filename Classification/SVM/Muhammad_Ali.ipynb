{
 "cells": [
  {
   "cell_type": "markdown",
   "metadata": {
    "id": "XV-HVmVVkopV"
   },
   "source": [
    "# Muhammad Ali\n",
    "\n",
    "Thời lượng ước tính: **120** phút\n",
    "\n",
    "## Giới thiệu Lab\n",
    "Trong quá trình trưởng thành, ai cũng hâm mộ một vị anh hùng. Đối với nhiều người, vị anh hùng đó là Muhammad Ali. Ông ấy dạy mọi người nên tự hào về con người của họ, kể cả vào thời điểm mà những người khác sẽ không chấp nhận điều đó. Ông đã chỉ cho mọi người cách đứng lên bảo vệ niềm tin khi đối mặt với áp bức và bạo quyền. Ông giúp mọi người đánh giá cao bản thân và khuyến khích họ quan tâm đến những người xung quanh. Ông đã cho chúng ta thấy bản lĩnh thực sự có nghĩa là gì, làm thế nào để trở thành một võ sĩ quyền anh, và nhiều hơn thế nữa. Tất cả những người từng gặp Muhammad Ali, dù là trên hay ngoài võ đài đều có một câu chuyện đầy động lực để chia sẻ về cuộc gặp gỡ của họ.\n",
    "\n",
    "Vào ngày 3 tháng 6 năm 2016, Muhammad Ali qua đời ở tuổi 74 do sốc nhiễm trùng. Trước đó 30 năm, ông được chẩn đoán mắc hội chứng Parkinson, một tình trạng thoái hóa thần kinh mà các bác sĩ cho rằng do chấn thương não liên quan đến quyền anh.\n",
    "\n",
    "Bản thân bệnh Parkinson là một rối loạn lâu dài của hệ thần kinh, ảnh hưởng đến nhiều khía cạnh vận động của một người theo thời gian. Người bệnh này có đặc điểm là run, di chuyển chậm, cứng nhắc, sa sút trí tuệ và trầm cảm. Vào năm 2013, khoảng 53 triệu người được chẩn đoán mắc bệnh này, chủ yếu là nam giới. Những nhân vật nổi tiếng khác bị ảnh hưởng bởi nó gồm diễn viên Michael J. Fox, và vận động viên đua xe đạp Olympic Davis Phinney.\n",
    "\n",
    "Trong lab này, bạn sẽ áp dụng SVC cho [Tập dữ liệu Parkinson](https://archive.ics.uci.edu/ml/datasets/Parkinsons), được cung cấp bởi Machine Learning Repository của UCI. Tập dữ liệu được thực hiện ở Đại học Oxford, với sự hợp tác của 10 trung tâm y tế trên khắp Hoa Kỳ cùng với Intel, tổ chức đã phát triển thiết bị được sử dụng để ghi lại các thuộc tính chính của tập dữ liệu: tín hiệu giọng nói. Mục tiêu của bạn đối với lab này trước tiên là xem liệu có thể phân biệt được những người bị và không bị Parkinson sử dụng công cụ phân loại vectơ hỗ trợ của SciKit-Learn hay không, và sau đó là tìm hiểu một cách thuần phác trong việc tinh chỉnh các thông số với nỗ lực tối đa hóa độ chính xác của testing set.\n",
    "\n",
    "\"Tôi chưa bao giờ thực sự chán nản với những việc khó khăn bởi vì tôi luôn thích nó. Thức dậy mỗi sáng để làm việc trên đường. Đến phòng tập thể dục hàng ngày lúc 12 giờ. Tôi không bao giờ thay đổi khuôn khổ của mình.\""
   ]
  },
  {
   "cell_type": "markdown",
   "metadata": {
    "id": "JKeHrzNmkopX"
   },
   "source": [
    "## Chu kỳ 1"
   ]
  },
  {
   "cell_type": "code",
   "execution_count": 1,
   "metadata": {},
   "outputs": [],
   "source": [
    "import pandas as pd\n",
    "import numpy as np"
   ]
  },
  {
   "cell_type": "markdown",
   "metadata": {
    "id": "FEbWvbYKkopZ"
   },
   "source": [
    "Load **parkinsons.data** vào biến **X**, hãy chắc chắn rằng bạn bỏ cột name.\n"
   ]
  },
  {
   "cell_type": "code",
   "execution_count": 2,
   "metadata": {
    "id": "9G6Oi5d4kopa"
   },
   "outputs": [
    {
     "data": {
      "text/html": [
       "<div>\n",
       "<style scoped>\n",
       "    .dataframe tbody tr th:only-of-type {\n",
       "        vertical-align: middle;\n",
       "    }\n",
       "\n",
       "    .dataframe tbody tr th {\n",
       "        vertical-align: top;\n",
       "    }\n",
       "\n",
       "    .dataframe thead th {\n",
       "        text-align: right;\n",
       "    }\n",
       "</style>\n",
       "<table border=\"1\" class=\"dataframe\">\n",
       "  <thead>\n",
       "    <tr style=\"text-align: right;\">\n",
       "      <th></th>\n",
       "      <th>MDVP:Fo(Hz)</th>\n",
       "      <th>MDVP:Fhi(Hz)</th>\n",
       "      <th>MDVP:Flo(Hz)</th>\n",
       "      <th>MDVP:Jitter(%)</th>\n",
       "      <th>MDVP:Jitter(Abs)</th>\n",
       "      <th>MDVP:RAP</th>\n",
       "      <th>MDVP:PPQ</th>\n",
       "      <th>Jitter:DDP</th>\n",
       "      <th>MDVP:Shimmer</th>\n",
       "      <th>MDVP:Shimmer(dB)</th>\n",
       "      <th>...</th>\n",
       "      <th>Shimmer:DDA</th>\n",
       "      <th>NHR</th>\n",
       "      <th>HNR</th>\n",
       "      <th>status</th>\n",
       "      <th>RPDE</th>\n",
       "      <th>DFA</th>\n",
       "      <th>spread1</th>\n",
       "      <th>spread2</th>\n",
       "      <th>D2</th>\n",
       "      <th>PPE</th>\n",
       "    </tr>\n",
       "  </thead>\n",
       "  <tbody>\n",
       "    <tr>\n",
       "      <th>0</th>\n",
       "      <td>119.992</td>\n",
       "      <td>157.302</td>\n",
       "      <td>74.997</td>\n",
       "      <td>0.00784</td>\n",
       "      <td>0.00007</td>\n",
       "      <td>0.00370</td>\n",
       "      <td>0.00554</td>\n",
       "      <td>0.01109</td>\n",
       "      <td>0.04374</td>\n",
       "      <td>0.426</td>\n",
       "      <td>...</td>\n",
       "      <td>0.06545</td>\n",
       "      <td>0.02211</td>\n",
       "      <td>21.033</td>\n",
       "      <td>1</td>\n",
       "      <td>0.414783</td>\n",
       "      <td>0.815285</td>\n",
       "      <td>-4.813031</td>\n",
       "      <td>0.266482</td>\n",
       "      <td>2.301442</td>\n",
       "      <td>0.284654</td>\n",
       "    </tr>\n",
       "    <tr>\n",
       "      <th>1</th>\n",
       "      <td>122.400</td>\n",
       "      <td>148.650</td>\n",
       "      <td>113.819</td>\n",
       "      <td>0.00968</td>\n",
       "      <td>0.00008</td>\n",
       "      <td>0.00465</td>\n",
       "      <td>0.00696</td>\n",
       "      <td>0.01394</td>\n",
       "      <td>0.06134</td>\n",
       "      <td>0.626</td>\n",
       "      <td>...</td>\n",
       "      <td>0.09403</td>\n",
       "      <td>0.01929</td>\n",
       "      <td>19.085</td>\n",
       "      <td>1</td>\n",
       "      <td>0.458359</td>\n",
       "      <td>0.819521</td>\n",
       "      <td>-4.075192</td>\n",
       "      <td>0.335590</td>\n",
       "      <td>2.486855</td>\n",
       "      <td>0.368674</td>\n",
       "    </tr>\n",
       "    <tr>\n",
       "      <th>2</th>\n",
       "      <td>116.682</td>\n",
       "      <td>131.111</td>\n",
       "      <td>111.555</td>\n",
       "      <td>0.01050</td>\n",
       "      <td>0.00009</td>\n",
       "      <td>0.00544</td>\n",
       "      <td>0.00781</td>\n",
       "      <td>0.01633</td>\n",
       "      <td>0.05233</td>\n",
       "      <td>0.482</td>\n",
       "      <td>...</td>\n",
       "      <td>0.08270</td>\n",
       "      <td>0.01309</td>\n",
       "      <td>20.651</td>\n",
       "      <td>1</td>\n",
       "      <td>0.429895</td>\n",
       "      <td>0.825288</td>\n",
       "      <td>-4.443179</td>\n",
       "      <td>0.311173</td>\n",
       "      <td>2.342259</td>\n",
       "      <td>0.332634</td>\n",
       "    </tr>\n",
       "    <tr>\n",
       "      <th>3</th>\n",
       "      <td>116.676</td>\n",
       "      <td>137.871</td>\n",
       "      <td>111.366</td>\n",
       "      <td>0.00997</td>\n",
       "      <td>0.00009</td>\n",
       "      <td>0.00502</td>\n",
       "      <td>0.00698</td>\n",
       "      <td>0.01505</td>\n",
       "      <td>0.05492</td>\n",
       "      <td>0.517</td>\n",
       "      <td>...</td>\n",
       "      <td>0.08771</td>\n",
       "      <td>0.01353</td>\n",
       "      <td>20.644</td>\n",
       "      <td>1</td>\n",
       "      <td>0.434969</td>\n",
       "      <td>0.819235</td>\n",
       "      <td>-4.117501</td>\n",
       "      <td>0.334147</td>\n",
       "      <td>2.405554</td>\n",
       "      <td>0.368975</td>\n",
       "    </tr>\n",
       "    <tr>\n",
       "      <th>4</th>\n",
       "      <td>116.014</td>\n",
       "      <td>141.781</td>\n",
       "      <td>110.655</td>\n",
       "      <td>0.01284</td>\n",
       "      <td>0.00011</td>\n",
       "      <td>0.00655</td>\n",
       "      <td>0.00908</td>\n",
       "      <td>0.01966</td>\n",
       "      <td>0.06425</td>\n",
       "      <td>0.584</td>\n",
       "      <td>...</td>\n",
       "      <td>0.10470</td>\n",
       "      <td>0.01767</td>\n",
       "      <td>19.649</td>\n",
       "      <td>1</td>\n",
       "      <td>0.417356</td>\n",
       "      <td>0.823484</td>\n",
       "      <td>-3.747787</td>\n",
       "      <td>0.234513</td>\n",
       "      <td>2.332180</td>\n",
       "      <td>0.410335</td>\n",
       "    </tr>\n",
       "    <tr>\n",
       "      <th>...</th>\n",
       "      <td>...</td>\n",
       "      <td>...</td>\n",
       "      <td>...</td>\n",
       "      <td>...</td>\n",
       "      <td>...</td>\n",
       "      <td>...</td>\n",
       "      <td>...</td>\n",
       "      <td>...</td>\n",
       "      <td>...</td>\n",
       "      <td>...</td>\n",
       "      <td>...</td>\n",
       "      <td>...</td>\n",
       "      <td>...</td>\n",
       "      <td>...</td>\n",
       "      <td>...</td>\n",
       "      <td>...</td>\n",
       "      <td>...</td>\n",
       "      <td>...</td>\n",
       "      <td>...</td>\n",
       "      <td>...</td>\n",
       "      <td>...</td>\n",
       "    </tr>\n",
       "    <tr>\n",
       "      <th>190</th>\n",
       "      <td>174.188</td>\n",
       "      <td>230.978</td>\n",
       "      <td>94.261</td>\n",
       "      <td>0.00459</td>\n",
       "      <td>0.00003</td>\n",
       "      <td>0.00263</td>\n",
       "      <td>0.00259</td>\n",
       "      <td>0.00790</td>\n",
       "      <td>0.04087</td>\n",
       "      <td>0.405</td>\n",
       "      <td>...</td>\n",
       "      <td>0.07008</td>\n",
       "      <td>0.02764</td>\n",
       "      <td>19.517</td>\n",
       "      <td>0</td>\n",
       "      <td>0.448439</td>\n",
       "      <td>0.657899</td>\n",
       "      <td>-6.538586</td>\n",
       "      <td>0.121952</td>\n",
       "      <td>2.657476</td>\n",
       "      <td>0.133050</td>\n",
       "    </tr>\n",
       "    <tr>\n",
       "      <th>191</th>\n",
       "      <td>209.516</td>\n",
       "      <td>253.017</td>\n",
       "      <td>89.488</td>\n",
       "      <td>0.00564</td>\n",
       "      <td>0.00003</td>\n",
       "      <td>0.00331</td>\n",
       "      <td>0.00292</td>\n",
       "      <td>0.00994</td>\n",
       "      <td>0.02751</td>\n",
       "      <td>0.263</td>\n",
       "      <td>...</td>\n",
       "      <td>0.04812</td>\n",
       "      <td>0.01810</td>\n",
       "      <td>19.147</td>\n",
       "      <td>0</td>\n",
       "      <td>0.431674</td>\n",
       "      <td>0.683244</td>\n",
       "      <td>-6.195325</td>\n",
       "      <td>0.129303</td>\n",
       "      <td>2.784312</td>\n",
       "      <td>0.168895</td>\n",
       "    </tr>\n",
       "    <tr>\n",
       "      <th>192</th>\n",
       "      <td>174.688</td>\n",
       "      <td>240.005</td>\n",
       "      <td>74.287</td>\n",
       "      <td>0.01360</td>\n",
       "      <td>0.00008</td>\n",
       "      <td>0.00624</td>\n",
       "      <td>0.00564</td>\n",
       "      <td>0.01873</td>\n",
       "      <td>0.02308</td>\n",
       "      <td>0.256</td>\n",
       "      <td>...</td>\n",
       "      <td>0.03804</td>\n",
       "      <td>0.10715</td>\n",
       "      <td>17.883</td>\n",
       "      <td>0</td>\n",
       "      <td>0.407567</td>\n",
       "      <td>0.655683</td>\n",
       "      <td>-6.787197</td>\n",
       "      <td>0.158453</td>\n",
       "      <td>2.679772</td>\n",
       "      <td>0.131728</td>\n",
       "    </tr>\n",
       "    <tr>\n",
       "      <th>193</th>\n",
       "      <td>198.764</td>\n",
       "      <td>396.961</td>\n",
       "      <td>74.904</td>\n",
       "      <td>0.00740</td>\n",
       "      <td>0.00004</td>\n",
       "      <td>0.00370</td>\n",
       "      <td>0.00390</td>\n",
       "      <td>0.01109</td>\n",
       "      <td>0.02296</td>\n",
       "      <td>0.241</td>\n",
       "      <td>...</td>\n",
       "      <td>0.03794</td>\n",
       "      <td>0.07223</td>\n",
       "      <td>19.020</td>\n",
       "      <td>0</td>\n",
       "      <td>0.451221</td>\n",
       "      <td>0.643956</td>\n",
       "      <td>-6.744577</td>\n",
       "      <td>0.207454</td>\n",
       "      <td>2.138608</td>\n",
       "      <td>0.123306</td>\n",
       "    </tr>\n",
       "    <tr>\n",
       "      <th>194</th>\n",
       "      <td>214.289</td>\n",
       "      <td>260.277</td>\n",
       "      <td>77.973</td>\n",
       "      <td>0.00567</td>\n",
       "      <td>0.00003</td>\n",
       "      <td>0.00295</td>\n",
       "      <td>0.00317</td>\n",
       "      <td>0.00885</td>\n",
       "      <td>0.01884</td>\n",
       "      <td>0.190</td>\n",
       "      <td>...</td>\n",
       "      <td>0.03078</td>\n",
       "      <td>0.04398</td>\n",
       "      <td>21.209</td>\n",
       "      <td>0</td>\n",
       "      <td>0.462803</td>\n",
       "      <td>0.664357</td>\n",
       "      <td>-5.724056</td>\n",
       "      <td>0.190667</td>\n",
       "      <td>2.555477</td>\n",
       "      <td>0.148569</td>\n",
       "    </tr>\n",
       "  </tbody>\n",
       "</table>\n",
       "<p>195 rows × 23 columns</p>\n",
       "</div>"
      ],
      "text/plain": [
       "     MDVP:Fo(Hz)  MDVP:Fhi(Hz)  MDVP:Flo(Hz)  MDVP:Jitter(%)  \\\n",
       "0        119.992       157.302        74.997         0.00784   \n",
       "1        122.400       148.650       113.819         0.00968   \n",
       "2        116.682       131.111       111.555         0.01050   \n",
       "3        116.676       137.871       111.366         0.00997   \n",
       "4        116.014       141.781       110.655         0.01284   \n",
       "..           ...           ...           ...             ...   \n",
       "190      174.188       230.978        94.261         0.00459   \n",
       "191      209.516       253.017        89.488         0.00564   \n",
       "192      174.688       240.005        74.287         0.01360   \n",
       "193      198.764       396.961        74.904         0.00740   \n",
       "194      214.289       260.277        77.973         0.00567   \n",
       "\n",
       "     MDVP:Jitter(Abs)  MDVP:RAP  MDVP:PPQ  Jitter:DDP  MDVP:Shimmer  \\\n",
       "0             0.00007   0.00370   0.00554     0.01109       0.04374   \n",
       "1             0.00008   0.00465   0.00696     0.01394       0.06134   \n",
       "2             0.00009   0.00544   0.00781     0.01633       0.05233   \n",
       "3             0.00009   0.00502   0.00698     0.01505       0.05492   \n",
       "4             0.00011   0.00655   0.00908     0.01966       0.06425   \n",
       "..                ...       ...       ...         ...           ...   \n",
       "190           0.00003   0.00263   0.00259     0.00790       0.04087   \n",
       "191           0.00003   0.00331   0.00292     0.00994       0.02751   \n",
       "192           0.00008   0.00624   0.00564     0.01873       0.02308   \n",
       "193           0.00004   0.00370   0.00390     0.01109       0.02296   \n",
       "194           0.00003   0.00295   0.00317     0.00885       0.01884   \n",
       "\n",
       "     MDVP:Shimmer(dB)  ...  Shimmer:DDA      NHR     HNR  status      RPDE  \\\n",
       "0               0.426  ...      0.06545  0.02211  21.033       1  0.414783   \n",
       "1               0.626  ...      0.09403  0.01929  19.085       1  0.458359   \n",
       "2               0.482  ...      0.08270  0.01309  20.651       1  0.429895   \n",
       "3               0.517  ...      0.08771  0.01353  20.644       1  0.434969   \n",
       "4               0.584  ...      0.10470  0.01767  19.649       1  0.417356   \n",
       "..                ...  ...          ...      ...     ...     ...       ...   \n",
       "190             0.405  ...      0.07008  0.02764  19.517       0  0.448439   \n",
       "191             0.263  ...      0.04812  0.01810  19.147       0  0.431674   \n",
       "192             0.256  ...      0.03804  0.10715  17.883       0  0.407567   \n",
       "193             0.241  ...      0.03794  0.07223  19.020       0  0.451221   \n",
       "194             0.190  ...      0.03078  0.04398  21.209       0  0.462803   \n",
       "\n",
       "          DFA   spread1   spread2        D2       PPE  \n",
       "0    0.815285 -4.813031  0.266482  2.301442  0.284654  \n",
       "1    0.819521 -4.075192  0.335590  2.486855  0.368674  \n",
       "2    0.825288 -4.443179  0.311173  2.342259  0.332634  \n",
       "3    0.819235 -4.117501  0.334147  2.405554  0.368975  \n",
       "4    0.823484 -3.747787  0.234513  2.332180  0.410335  \n",
       "..        ...       ...       ...       ...       ...  \n",
       "190  0.657899 -6.538586  0.121952  2.657476  0.133050  \n",
       "191  0.683244 -6.195325  0.129303  2.784312  0.168895  \n",
       "192  0.655683 -6.787197  0.158453  2.679772  0.131728  \n",
       "193  0.643956 -6.744577  0.207454  2.138608  0.123306  \n",
       "194  0.664357 -5.724056  0.190667  2.555477  0.148569  \n",
       "\n",
       "[195 rows x 23 columns]"
      ]
     },
     "execution_count": 2,
     "metadata": {},
     "output_type": "execute_result"
    }
   ],
   "source": [
    "# Nhập code của bạn ở đây\n",
    "X = pd.read_csv('parkinsons.data').drop(labels='name',axis = 1)\n",
    "X"
   ]
  },
  {
   "cell_type": "code",
   "execution_count": 3,
   "metadata": {},
   "outputs": [
    {
     "data": {
      "text/plain": [
       "MDVP:Fo(Hz)         0\n",
       "MDVP:Fhi(Hz)        0\n",
       "MDVP:Flo(Hz)        0\n",
       "MDVP:Jitter(%)      0\n",
       "MDVP:Jitter(Abs)    0\n",
       "MDVP:RAP            0\n",
       "MDVP:PPQ            0\n",
       "Jitter:DDP          0\n",
       "MDVP:Shimmer        0\n",
       "MDVP:Shimmer(dB)    0\n",
       "Shimmer:APQ3        0\n",
       "Shimmer:APQ5        0\n",
       "MDVP:APQ            0\n",
       "Shimmer:DDA         0\n",
       "NHR                 0\n",
       "HNR                 0\n",
       "status              0\n",
       "RPDE                0\n",
       "DFA                 0\n",
       "spread1             0\n",
       "spread2             0\n",
       "D2                  0\n",
       "PPE                 0\n",
       "dtype: int64"
      ]
     },
     "execution_count": 3,
     "metadata": {},
     "output_type": "execute_result"
    }
   ],
   "source": [
    "X.isnull().sum()"
   ]
  },
  {
   "cell_type": "code",
   "execution_count": 4,
   "metadata": {},
   "outputs": [
    {
     "data": {
      "text/plain": [
       "MDVP:Fo(Hz)         float64\n",
       "MDVP:Fhi(Hz)        float64\n",
       "MDVP:Flo(Hz)        float64\n",
       "MDVP:Jitter(%)      float64\n",
       "MDVP:Jitter(Abs)    float64\n",
       "MDVP:RAP            float64\n",
       "MDVP:PPQ            float64\n",
       "Jitter:DDP          float64\n",
       "MDVP:Shimmer        float64\n",
       "MDVP:Shimmer(dB)    float64\n",
       "Shimmer:APQ3        float64\n",
       "Shimmer:APQ5        float64\n",
       "MDVP:APQ            float64\n",
       "Shimmer:DDA         float64\n",
       "NHR                 float64\n",
       "HNR                 float64\n",
       "status                int64\n",
       "RPDE                float64\n",
       "DFA                 float64\n",
       "spread1             float64\n",
       "spread2             float64\n",
       "D2                  float64\n",
       "PPE                 float64\n",
       "dtype: object"
      ]
     },
     "execution_count": 4,
     "metadata": {},
     "output_type": "execute_result"
    }
   ],
   "source": [
    "X.dtypes"
   ]
  },
  {
   "cell_type": "markdown",
   "metadata": {
    "id": "-Ixw-1DImf_K"
   },
   "source": [
    "Ghép cột status vào biến **y** và xóa nó khỏi **X**."
   ]
  },
  {
   "cell_type": "code",
   "execution_count": 5,
   "metadata": {
    "id": "nOWlWytYm0VV"
   },
   "outputs": [],
   "source": [
    "# Nhập code của bạn ở đây\n",
    "y = X['status'].values\n",
    "X.drop(labels='status',axis = 1,inplace= True)"
   ]
  },
  {
   "cell_type": "code",
   "execution_count": 6,
   "metadata": {},
   "outputs": [
    {
     "data": {
      "text/plain": [
       "Index(['MDVP:Fo(Hz)', 'MDVP:Fhi(Hz)', 'MDVP:Flo(Hz)', 'MDVP:Jitter(%)',\n",
       "       'MDVP:Jitter(Abs)', 'MDVP:RAP', 'MDVP:PPQ', 'Jitter:DDP',\n",
       "       'MDVP:Shimmer', 'MDVP:Shimmer(dB)', 'Shimmer:APQ3', 'Shimmer:APQ5',\n",
       "       'MDVP:APQ', 'Shimmer:DDA', 'NHR', 'HNR', 'RPDE', 'DFA', 'spread1',\n",
       "       'spread2', 'D2', 'PPE'],\n",
       "      dtype='object')"
      ]
     },
     "execution_count": 6,
     "metadata": {},
     "output_type": "execute_result"
    }
   ],
   "source": [
    "X.columns"
   ]
  },
  {
   "cell_type": "markdown",
   "metadata": {
    "id": "Ag3LaZ_fm2bX"
   },
   "source": [
    "Thực hiện train/test split. **30**% kích thước nhóm test, với random_state bằng **7**."
   ]
  },
  {
   "cell_type": "code",
   "execution_count": 7,
   "metadata": {
    "id": "HJVbkRsvnD3K"
   },
   "outputs": [],
   "source": [
    "from sklearn.model_selection import train_test_split"
   ]
  },
  {
   "cell_type": "code",
   "execution_count": 8,
   "metadata": {},
   "outputs": [],
   "source": [
    "X_train,X_test,y_train,y_test = train_test_split(X,y,test_size=0.3,random_state=7)"
   ]
  },
  {
   "cell_type": "code",
   "execution_count": 9,
   "metadata": {},
   "outputs": [
    {
     "name": "stdout",
     "output_type": "stream",
     "text": [
      "(136, 22)\n",
      "(136,)\n"
     ]
    }
   ],
   "source": [
    "print(X_train.shape)\n",
    "print(y_train.shape)"
   ]
  },
  {
   "cell_type": "markdown",
   "metadata": {
    "id": "z-gCEYNFnK3Q"
   },
   "source": [
    "Tạo bộ phân loại SVC. Không chỉ định bất kỳ tham số nào, chỉ để mọi thứ như mặc định. So khớp nó với dữ liệu huấn luyện và sau đó chấm điểm dữ liệu test với độ chính xác và F1 score."
   ]
  },
  {
   "cell_type": "code",
   "execution_count": 10,
   "metadata": {
    "id": "GPuI1e4enNjd"
   },
   "outputs": [
    {
     "data": {
      "text/plain": [
       "SVC(C=1.0, break_ties=False, cache_size=200, class_weight=None, coef0=0.0,\n",
       "    decision_function_shape='ovr', degree=3, gamma='scale', kernel='rbf',\n",
       "    max_iter=-1, probability=False, random_state=None, shrinking=True,\n",
       "    tol=0.001, verbose=False)"
      ]
     },
     "execution_count": 10,
     "metadata": {},
     "output_type": "execute_result"
    }
   ],
   "source": [
    "# Nhập code của bạn ở đây\n",
    "from sklearn import svm\n",
    "clf = svm.SVC()\n",
    "clf.fit(X_train, y_train) "
   ]
  },
  {
   "cell_type": "code",
   "execution_count": 11,
   "metadata": {},
   "outputs": [],
   "source": [
    "from sklearn.metrics import f1_score,accuracy_score"
   ]
  },
  {
   "cell_type": "code",
   "execution_count": 12,
   "metadata": {},
   "outputs": [
    {
     "data": {
      "text/plain": [
       "array([1, 0, 1, 1, 1], dtype=int64)"
      ]
     },
     "execution_count": 12,
     "metadata": {},
     "output_type": "execute_result"
    }
   ],
   "source": [
    "y_hat = clf.predict(X_test)\n",
    "y_hat[0:5]"
   ]
  },
  {
   "cell_type": "code",
   "execution_count": 13,
   "metadata": {},
   "outputs": [
    {
     "data": {
      "text/plain": [
       "array([0, 1, 1, 1, 1], dtype=int64)"
      ]
     },
     "execution_count": 13,
     "metadata": {},
     "output_type": "execute_result"
    }
   ],
   "source": [
    "y_test[0:5]"
   ]
  },
  {
   "cell_type": "code",
   "execution_count": 14,
   "metadata": {},
   "outputs": [
    {
     "name": "stdout",
     "output_type": "stream",
     "text": [
      "Accuracy score:  0.7627118644067796\n",
      "F1 score:   0.7302824858757062\n"
     ]
    }
   ],
   "source": [
    "print('Accuracy score: ',accuracy_score(y_test,y_hat))\n",
    "print('F1 score:  ',f1_score(y_test,y_hat,average='weighted'))"
   ]
  },
  {
   "cell_type": "markdown",
   "metadata": {
    "id": "2H8GDqSFnPu6"
   },
   "source": [
    "## Chu kỳ 2\n"
   ]
  },
  {
   "cell_type": "markdown",
   "metadata": {
    "id": "TrUv89B0nV9U"
   },
   "source": [
    "Độ chính xác đó quá thấp để trở nên hữu dụng. Chúng ta cần phải cải thiện nó. Bạn có thể thực hiện thử theo cách thủ công một loạt các kết hợp của **C và các giá trị gamma cho nhân rbf**. Nhưng điều đó có thể tốn rất nhiều thời gian. Ngoài ra, bạn có thể vô tình bỏ qua một cặp giá trị có thể dẫn đến độ chính xác rất tốt.\n",
    "\n",
    "Thay vào đó, hãy tận dụng ưu điểm của máy tính. Lập trình tìm kiếm thông số tốt nhất đơn giản bằng cách tạo các vòng lặp for lồng nhau. Vòng lặp for bên ngoài sẽ lặp lại biến **C từ 0,05 đến 2, sử dụng tăng tiến đơn vị 0,05**. Vòng lặp for bên trong sẽ tăng biến **gamma từ 0,001 đến 0,1, sử dụng tăng tiến đơn vị 0,001**. Như bạn đã biết, Python range sẽ không cho phép khoảng thời gian thực, vì thế bạn sẽ phải thực hiện một số nghiên cứu về NumPy ARanges nếu bạn chưa biết cách sử dụng chúng.\n",
    "\n",
    "Vì mục tiêu là tìm các tham số dẫn đến mô hình có hệ số chính xác tốt nhất, bạn sẽ cần biến **best_score = 0 mà bạn khởi tạo bên ngoài vòng lặp for.** Trong vòng lặp for bên trong, hãy tạo mô hình SVC và chuyển tham số C và gamma vào hàm tạo lớp. Huấn luyện và cho điểm mô hình một cách thích hợp. Nếu best_score hiện tại nhỏ hơn hệ số của mô hình, hãy cập nhật best_score để đảm bảo in nó ra cùng với các giá trị C và gamma dẫn đến nó.\n",
    "\n",
    "Sau khi chạy lại lab, độ chính xác cao nhất và hệ số F1 mà bạn có thể nhận được là bao nhiêu?"
   ]
  },
  {
   "cell_type": "code",
   "execution_count": 21,
   "metadata": {
    "id": "efWGEUPNnO0E"
   },
   "outputs": [
    {
     "name": "stdout",
     "output_type": "stream",
     "text": [
      "High accuracy score:  0.9152542372881356\n",
      "Best C:  1.6500000000000001\n",
      "Best gamma:  0.099\n"
     ]
    }
   ],
   "source": [
    "# Nhập code của bạn ở đây\n",
    "best_score = 0\n",
    "for C in np.arange(0.05,2,0.05):\n",
    "    for gamma in np.arange(0.001,0.1,0.001):\n",
    "        model = svm.SVC(kernel='rbf',gamma=gamma,C=C)\n",
    "        model.fit(X_train,y_train)\n",
    "        score = model.score(X_test,y_test)\n",
    "        if score > best_score:\n",
    "            best_score = score\n",
    "            best_C = C\n",
    "            best_gamma = gamma \n",
    "        \n",
    "print('High accuracy score: ',best_score)\n",
    "print('Best C: ' ,best_C)\n",
    "print('Best gamma: ',gamma)"
   ]
  },
  {
   "cell_type": "markdown",
   "metadata": {
    "id": "RZev_qCYnylw"
   },
   "source": [
    "## Chu kỳ 3"
   ]
  },
  {
   "cell_type": "markdown",
   "metadata": {
    "id": "kqM4tWC4n_Gk"
   },
   "source": [
    "Đợi một chút. Kéo mở tệp nhãn của tập dữ liệu từ: https://archive.ics.uci.edu/ml/datasets/Parkinsons\n",
    "\n",
    "Nhìn vào các đơn vị trên các cột: **Hz,%, Abs, dB, ...** Điều gì đã xảy ra với việc chuyển đổi dữ liệu? Tất cả các đơn vị đó tương tác với nhau, một số quá trình tiền xử lý chắc chắn là theo thứ tự.\n",
    "Ngay sau khi bạn định dạng trước train/test split nhưng trước khi bạn huấn luyện mô hình, hãy nhập code tiền xử lý của SciKit-Learn. Trừ khi bạn biết rõ cái nào sẽ hoạt động tốt nhất, nếu không bạn sẽ phải thử từng bộ tiền xử lý khác nhau, kiểm tra xem chúng có cải thiện độ chính xác dự đoán hay không.\n",
    "\n",
    "Hãy thử với ***Normalizer(), MaxAbsScaler(), MinMaxScaler(), KernelCenterer(), and StandardScaler().***\n",
    "\n",
    "Sau khi thử tất cả các tỷ lệ này, độ chính xác cao nhất mới và hệ số F1 mà bạn có thể đạt được là bao nhiêu?"
   ]
  },
  {
   "cell_type": "code",
   "execution_count": 26,
   "metadata": {},
   "outputs": [],
   "source": [
    "X = X.values"
   ]
  },
  {
   "cell_type": "code",
   "execution_count": 27,
   "metadata": {},
   "outputs": [
    {
     "data": {
      "text/plain": [
       "array([[ 1.199920e+02,  1.573020e+02,  7.499700e+01,  7.840000e-03,\n",
       "         7.000000e-05,  3.700000e-03,  5.540000e-03,  1.109000e-02,\n",
       "         4.374000e-02,  4.260000e-01,  2.182000e-02,  3.130000e-02,\n",
       "         2.971000e-02,  6.545000e-02,  2.211000e-02,  2.103300e+01,\n",
       "         4.147830e-01,  8.152850e-01, -4.813031e+00,  2.664820e-01,\n",
       "         2.301442e+00,  2.846540e-01],\n",
       "       [ 1.224000e+02,  1.486500e+02,  1.138190e+02,  9.680000e-03,\n",
       "         8.000000e-05,  4.650000e-03,  6.960000e-03,  1.394000e-02,\n",
       "         6.134000e-02,  6.260000e-01,  3.134000e-02,  4.518000e-02,\n",
       "         4.368000e-02,  9.403000e-02,  1.929000e-02,  1.908500e+01,\n",
       "         4.583590e-01,  8.195210e-01, -4.075192e+00,  3.355900e-01,\n",
       "         2.486855e+00,  3.686740e-01]])"
      ]
     },
     "execution_count": 27,
     "metadata": {},
     "output_type": "execute_result"
    }
   ],
   "source": [
    "X[0:2]"
   ]
  },
  {
   "cell_type": "code",
   "execution_count": 28,
   "metadata": {
    "id": "i828Tr31n-Nu"
   },
   "outputs": [],
   "source": [
    "from sklearn.preprocessing import Normalizer,MaxAbsScaler,MinMaxScaler,KernelCenterer,StandardScaler"
   ]
  },
  {
   "cell_type": "code",
   "execution_count": 29,
   "metadata": {},
   "outputs": [
    {
     "data": {
      "text/plain": [
       "Normalizer()"
      ]
     },
     "execution_count": 29,
     "metadata": {},
     "output_type": "execute_result"
    }
   ],
   "source": [
    "normal = Normalizer().fit(X)\n",
    "normal"
   ]
  },
  {
   "cell_type": "code",
   "execution_count": 30,
   "metadata": {},
   "outputs": [],
   "source": [
    "X_normal= normal.transform(X)"
   ]
  },
  {
   "cell_type": "code",
   "execution_count": 31,
   "metadata": {},
   "outputs": [
    {
     "data": {
      "text/plain": [
       "array([[ 5.64154193e-01,  7.39570829e-01,  3.52605774e-01,\n",
       "         3.68605313e-05,  3.29111887e-07,  1.73959140e-05,\n",
       "         2.60468551e-05,  5.21407261e-05,  2.05647913e-04,\n",
       "         2.00288091e-03,  1.02588877e-04,  1.47160029e-04,\n",
       "         1.39684488e-04,  3.07719614e-04,  1.03952340e-04,\n",
       "         9.88887188e-02,  1.95014308e-03,  3.83314264e-03,\n",
       "        -2.26289388e-02,  1.25289134e-03,  1.08204560e-02,\n",
       "         1.33832879e-03],\n",
       "       [ 5.45094429e-01,  6.61995808e-01,  5.06879925e-01,\n",
       "         4.31087751e-05,  3.56270869e-07,  2.07082442e-05,\n",
       "         3.09955656e-05,  6.20801988e-05,  2.73170688e-04,\n",
       "         2.78781955e-03,  1.39569113e-04,  2.01203973e-04,\n",
       "         1.94523894e-04,  4.18751872e-04,  8.59058132e-05,\n",
       "         8.49928691e-02,  2.04124949e-03,  3.64964323e-03,\n",
       "        -1.81484024e-02,  1.49451176e-03,  1.10749249e-02,\n",
       "         1.64184758e-03]])"
      ]
     },
     "execution_count": 31,
     "metadata": {},
     "output_type": "execute_result"
    }
   ],
   "source": [
    "X_normal[0:2]"
   ]
  },
  {
   "cell_type": "code",
   "execution_count": 32,
   "metadata": {},
   "outputs": [],
   "source": [
    "train_X,test_X,train_y,test_y = train_test_split(X_normal,y,random_state=7,test_size=0.3)"
   ]
  },
  {
   "cell_type": "code",
   "execution_count": 33,
   "metadata": {},
   "outputs": [
    {
     "data": {
      "text/plain": [
       "SVC(C=1)"
      ]
     },
     "execution_count": 33,
     "metadata": {},
     "output_type": "execute_result"
    }
   ],
   "source": [
    "clf_3 = svm.SVC(C=1,kernel='rbf')\n",
    "clf_3.fit(train_X, train_y) "
   ]
  },
  {
   "cell_type": "code",
   "execution_count": 34,
   "metadata": {},
   "outputs": [
    {
     "data": {
      "text/plain": [
       "array([1, 1, 1, 1, 1])"
      ]
     },
     "execution_count": 34,
     "metadata": {},
     "output_type": "execute_result"
    }
   ],
   "source": [
    "y_hat_3 = clf_3.predict(test_X)\n",
    "y_hat_3[0:5]"
   ]
  },
  {
   "cell_type": "code",
   "execution_count": 35,
   "metadata": {},
   "outputs": [
    {
     "name": "stdout",
     "output_type": "stream",
     "text": [
      "Accuracy score:  0.7966101694915254\n",
      "F1 score:   0.7064278861528621\n"
     ]
    }
   ],
   "source": [
    "print('Accuracy score: ',accuracy_score(test_y,y_hat_3))\n",
    "print('F1 score:  ',f1_score(test_y,y_hat_3,average='weighted'))"
   ]
  },
  {
   "cell_type": "code",
   "execution_count": null,
   "metadata": {},
   "outputs": [],
   "source": []
  }
 ],
 "metadata": {
  "anaconda-cloud": {},
  "colab": {
   "collapsed_sections": [],
   "name": "Lab_6_2_Muhammad_Ali.ipynb",
   "provenance": []
  },
  "kernelspec": {
   "display_name": "Python 3",
   "language": "python",
   "name": "python3"
  },
  "language_info": {
   "codemirror_mode": {
    "name": "ipython",
    "version": 3
   },
   "file_extension": ".py",
   "mimetype": "text/x-python",
   "name": "python",
   "nbconvert_exporter": "python",
   "pygments_lexer": "ipython3",
   "version": "3.7.7"
  },
  "toc": {
   "colors": {
    "hover_highlight": "#DAA520",
    "running_highlight": "#FF0000",
    "selected_highlight": "#FFD700"
   },
   "moveMenuLeft": true,
   "nav_menu": {
    "height": "58px",
    "width": "252px"
   },
   "navigate_menu": true,
   "number_sections": true,
   "sideBar": true,
   "threshold": 4,
   "toc_cell": false,
   "toc_section_display": "block",
   "toc_window_display": false,
   "widenNotebook": false
  }
 },
 "nbformat": 4,
 "nbformat_minor": 4
}
